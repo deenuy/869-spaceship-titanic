{
 "cells": [
  {
   "metadata": {
    "ExecuteTime": {
     "end_time": "2025-06-06T21:09:38.252500Z",
     "start_time": "2025-06-06T21:09:37.219476Z"
    }
   },
   "cell_type": "code",
   "source": [
    "from datetime import datetime\n",
    "import pandas as pd\n",
    "import numpy as np\n",
    "from sklearn.metrics import accuracy_score, classification_report, confusion_matrix, roc_auc_score, f1_score, precision_score, recall_score\n",
    "from sklearn.impute import SimpleImputer\n",
    "import joblib"
   ],
   "id": "2658fec3d18f1655",
   "outputs": [],
   "execution_count": 3
  },
  {
   "metadata": {
    "ExecuteTime": {
     "end_time": "2025-06-06T21:11:55.132412Z",
     "start_time": "2025-06-06T21:11:55.099109Z"
    }
   },
   "cell_type": "code",
   "source": [
    "%%time\n",
    "\n",
    "# Load selected features from feature selection phase\n",
    "best_features = pd.read_csv('../data/processed/best_features_selected.csv')['best_features'].tolist()\n",
    "\n",
    "# Load TPE Champion model (pre-trained)\n",
    "tpe_champion = joblib.load(\"../models/TPE_Champion_Latest_CatBoost.pkl\")\n",
    "\n",
    "# Prepare test data\n",
    "X_test_kaggle = pd.read_csv('../data/processed/test_features_engineered.csv')\n",
    "print(f\"📊 Competition samples: {len(X_test_kaggle):,}\")\n",
    "\n",
    "passenger_ids = X_test_kaggle[\"PassengerId\"]\n",
    "X_test_kaggle = X_test_kaggle[best_features]\n",
    "print(f\"✅ Selected features loaded: {len(best_features)} features\")\n",
    "\n",
    "# Generate predictions with TPE Champion\n",
    "print(f\"🚀 Generating predictions with TPE Champion CatBoost (CV: {tpe_champion['best_score']:.4f})\")\n",
    "preds = tpe_champion['model'].predict(X_test_kaggle)\n",
    "\n",
    "submission = pd.DataFrame({\n",
    "    \"PassengerId\": passenger_ids,\n",
    "    \"Transported\": preds.astype(bool)\n",
    "})\n",
    "\n",
    "filename = f\"TPE_Champion_Submission_{tpe_champion['best_score']:.4f}.csv\"\n",
    "submission.to_csv(f\"submissions/{filename}\", index=False)\n",
    "print(f\"✅ Submission file created: {filename}\")"
   ],
   "id": "ae05eb1b660d95f5",
   "outputs": [
    {
     "name": "stdout",
     "output_type": "stream",
     "text": [
      "📊 Competition samples: 4,277\n",
      "✅ Selected features loaded: 6 features\n",
      "🚀 Generating predictions with TPE Champion CatBoost (CV: 0.8033)\n",
      "✅ Submission file created: TPE_Champion_Submission_0.8033.csv\n",
      "CPU times: user 16.4 ms, sys: 14.8 ms, total: 31.2 ms\n",
      "Wall time: 26.8 ms\n"
     ]
    }
   ],
   "execution_count": 7
  },
  {
   "metadata": {
    "ExecuteTime": {
     "end_time": "2025-06-06T21:13:59.754815Z",
     "start_time": "2025-06-06T21:13:59.739064Z"
    }
   },
   "cell_type": "code",
   "source": [
    "# =============================================================================\n",
    "# ANALYZE PREDICTIONS\n",
    "# =============================================================================\n",
    "print(f\"\\n📊 Prediction Analysis:\")\n",
    "print(\"-\" * 40)\n",
    "print(f\"🎯 Model: TPE Champion CatBoost (CV: {tpe_champion['best_score']:.4f})\")\n",
    "print(f\"📊 Total predictions: {len(preds):,}\")\n",
    "print(f\"📊 Predicted class 0 (Not Transported): {(preds == 0).sum():,} ({(preds == 0).mean():.1%})\")\n",
    "print(f\"📊 Predicted class 1 (Transported): {(preds == 1).sum():,} ({(preds == 1).mean():.1%})\")\n",
    "\n",
    "# Get prediction probabilities for confidence analysis\n",
    "pred_proba = tpe_champion['model'].predict_proba(X_test_kaggle)\n",
    "\n",
    "print(f\"📊 Mean prediction probability: {pred_proba[:, 1].mean():.3f}\")\n",
    "print(f\"📊 Prediction confidence (max prob): {pred_proba.max(axis=1).mean():.3f}\")"
   ],
   "id": "45d235b462b0908d",
   "outputs": [
    {
     "name": "stdout",
     "output_type": "stream",
     "text": [
      "\n",
      "📊 Prediction Analysis:\n",
      "----------------------------------------\n",
      "🎯 Model: TPE Champion CatBoost (CV: 0.8033)\n",
      "📊 Total predictions: 4,277\n",
      "📊 Predicted class 0 (Not Transported): 1,885 (44.1%)\n",
      "📊 Predicted class 1 (Transported): 2,392 (55.9%)\n",
      "📊 Mean prediction probability: 0.508\n",
      "📊 Prediction confidence (max prob): 0.805\n"
     ]
    }
   ],
   "execution_count": 8
  },
  {
   "metadata": {
    "ExecuteTime": {
     "end_time": "2025-06-04T08:06:07.648931Z",
     "start_time": "2025-06-04T08:06:07.647622Z"
    }
   },
   "cell_type": "code",
   "source": "",
   "id": "19f748ba58cf678e",
   "outputs": [],
   "execution_count": null
  },
  {
   "metadata": {
    "ExecuteTime": {
     "end_time": "2025-06-04T08:06:07.669172Z",
     "start_time": "2025-06-04T08:06:07.667916Z"
    }
   },
   "cell_type": "code",
   "source": "",
   "id": "7f4cc69d29df034d",
   "outputs": [],
   "execution_count": null
  },
  {
   "metadata": {
    "ExecuteTime": {
     "end_time": "2025-06-04T08:06:07.690238Z",
     "start_time": "2025-06-04T08:06:07.688956Z"
    }
   },
   "cell_type": "code",
   "source": "",
   "id": "5d6d1951e1b8553e",
   "outputs": [],
   "execution_count": null
  }
 ],
 "metadata": {
  "kernelspec": {
   "display_name": "Python 3",
   "language": "python",
   "name": "python3"
  },
  "language_info": {
   "codemirror_mode": {
    "name": "ipython",
    "version": 2
   },
   "file_extension": ".py",
   "mimetype": "text/x-python",
   "name": "python",
   "nbconvert_exporter": "python",
   "pygments_lexer": "ipython2",
   "version": "2.7.6"
  }
 },
 "nbformat": 4,
 "nbformat_minor": 5
}
