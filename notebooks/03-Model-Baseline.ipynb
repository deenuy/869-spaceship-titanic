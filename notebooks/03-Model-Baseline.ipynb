{
 "metadata": {
  "kernelspec": {
   "language": "python",
   "display_name": "Python 3",
   "name": "python3"
  },
  "language_info": {
   "name": "python",
   "version": "3.11.11",
   "mimetype": "text/x-python",
   "codemirror_mode": {
    "name": "ipython",
    "version": 3
   },
   "pygments_lexer": "ipython3",
   "nbconvert_exporter": "python",
   "file_extension": ".py"
  },
  "kaggle": {
   "accelerator": "none",
   "dataSources": [
    {
     "sourceId": 100411,
     "databundleVersionId": 12064814,
     "sourceType": "competition"
    }
   ],
   "dockerImageVersionId": 31012,
   "isInternetEnabled": true,
   "language": "python",
   "sourceType": "notebook",
   "isGpuEnabled": false
  },
  "colab": {
   "name": "Template Notebook",
   "provenance": [],
   "include_colab_link": true
  }
 },
 "nbformat_minor": 0,
 "nbformat": 4,
 "cells": [
  {
   "cell_type": "markdown",
   "metadata": {
    "id": "view-in-github",
    "colab_type": "text"
   },
   "source": [
    "<a href=\"https://colab.research.google.com/github/stepthom/869_course/blob/main/2026%20869%20Project%20Template.ipynb\" target=\"_parent\"><img src=\"https://colab.research.google.com/assets/colab-badge.svg\" alt=\"Open In Colab\"/></a>"
   ]
  },
  {
   "cell_type": "markdown",
   "source": [
    "# MMAI 869 Project: Example Notebook\n",
    "\n",
    "*Updated May 1, 2025*\n",
    "\n",
    "This notebook serves as a template for the Team Project. Teams can use this notebook as a starting point, and update it successively with new ideas and techniques to improve their model results.\n",
    "\n",
    "Note that is not required to use this template. Teams may also alter this template in any way they see fit."
   ],
   "metadata": {
    "id": "T_JqF4nhnHAK"
   }
  },
  {
   "cell_type": "markdown",
   "source": [
    "# Preliminaries: Inspect and Set up environment\n",
    "\n",
    "No action is required on your part in this section. These cells print out helpful information about the environment, just in case."
   ],
   "metadata": {
    "id": "5h8kN7e4nHAM"
   }
  },
  {
   "cell_type": "code",
   "source": [
    "# 🧰 General-purpose libraries\n",
    "import numpy as np\n",
    "import pandas as pd\n",
    "import matplotlib.pyplot as plt\n",
    "import seaborn as sns\n",
    "from datetime import datetime\n",
    "import joblib\n",
    "\n",
    "\n",
    "# 🧪 Scikit-learn preprocessing & pipeline\n",
    "from sklearn.impute import SimpleImputer\n",
    "from sklearn.preprocessing import StandardScaler, OneHotEncoder, LabelEncoder\n",
    "from sklearn.compose import ColumnTransformer\n",
    "from sklearn.pipeline import Pipeline\n",
    "from sklearn.feature_selection import SelectKBest, f_classif\n",
    "\n",
    "# 🔍 Scikit-learn model selection\n",
    "from sklearn.model_selection import (\n",
    "    train_test_split,\n",
    "    cross_val_score,\n",
    "    cross_validate,\n",
    "    GridSearchCV,\n",
    "    StratifiedKFold\n",
    ")\n",
    "\n",
    "# 🧠 Scikit-learn classifiers\n",
    "from sklearn.linear_model import LogisticRegression\n",
    "from sklearn.tree import DecisionTreeClassifier\n",
    "from sklearn.ensemble import (\n",
    "    RandomForestClassifier,\n",
    "    GradientBoostingClassifier,\n",
    "    AdaBoostClassifier,\n",
    "    ExtraTreesClassifier\n",
    ")\n",
    "from sklearn.svm import SVC\n",
    "from sklearn.neighbors import KNeighborsClassifier\n",
    "\n",
    "# 🚀 Gradient boosting frameworks\n",
    "from xgboost import XGBClassifier\n",
    "from lightgbm import LGBMClassifier\n",
    "from catboost import CatBoostClassifier\n",
    "\n",
    "# 📊 Evaluation\n",
    "from sklearn.metrics import accuracy_score, classification_report\n",
    "\n",
    "# 🧪 Sample dataset (for testing/demo)\n",
    "from sklearn.datasets import make_classification\n",
    "\n",
    "import warnings\n",
    "warnings.filterwarnings('ignore', category=UserWarning)\n"
   ],
   "metadata": {
    "_uuid": "8f2839f25d086af736a60e9eeb907d3b93b6e0e5",
    "_cell_guid": "b1076dfc-b9ad-4769-8c92-a6c4dae69d19",
    "trusted": true,
    "execution": {
     "iopub.status.busy": "2025-04-29T15:33:14.024124Z",
     "iopub.execute_input": "2025-04-29T15:33:14.024385Z",
     "iopub.status.idle": "2025-04-29T15:33:23.963717Z",
     "shell.execute_reply.started": "2025-04-29T15:33:14.024359Z",
     "shell.execute_reply": "2025-04-29T15:33:23.962752Z"
    },
    "id": "iFGZKq7dnHAN",
    "ExecuteTime": {
     "end_time": "2025-06-04T05:49:26.487055Z",
     "start_time": "2025-06-04T05:49:25.360370Z"
    }
   },
   "outputs": [],
   "execution_count": 1
  },
  {
   "cell_type": "code",
   "source": [
    "!python --version"
   ],
   "metadata": {
    "trusted": true,
    "execution": {
     "iopub.status.busy": "2025-04-29T15:34:57.648204Z",
     "iopub.execute_input": "2025-04-29T15:34:57.64854Z",
     "iopub.status.idle": "2025-04-29T15:34:57.787301Z",
     "shell.execute_reply.started": "2025-04-29T15:34:57.648514Z",
     "shell.execute_reply": "2025-04-29T15:34:57.786221Z"
    },
    "id": "M8P3CPDmnHAP",
    "ExecuteTime": {
     "end_time": "2025-06-04T05:49:26.701080Z",
     "start_time": "2025-06-04T05:49:26.568369Z"
    }
   },
   "outputs": [
    {
     "name": "stdout",
     "output_type": "stream",
     "text": [
      "Python 3.10.16\r\n"
     ]
    }
   ],
   "execution_count": 2
  },
  {
   "cell_type": "markdown",
   "source": [
    "# 0: Data Loading and Inspection"
   ],
   "metadata": {
    "id": "c5EsSXF-nHAQ"
   }
  },
  {
   "cell_type": "code",
   "source": [
    "# Load complete processed dataset\n",
    "df_processed = pd.read_csv('../data/processed/train_dataset_spaceship_titanic_processed.csv')\n",
    "X_train = df_processed.drop(['Transported', 'PassengerId'], axis=1, errors='ignore')\n",
    "y_train = df_processed['Transported']"
   ],
   "metadata": {
    "trusted": true,
    "execution": {
     "iopub.status.busy": "2025-04-29T15:41:49.690048Z",
     "iopub.execute_input": "2025-04-29T15:41:49.690355Z",
     "iopub.status.idle": "2025-04-29T15:41:50.067303Z",
     "shell.execute_reply.started": "2025-04-29T15:41:49.690336Z",
     "shell.execute_reply": "2025-04-29T15:41:50.066321Z"
    },
    "id": "t9bKTR3fnHAQ",
    "ExecuteTime": {
     "end_time": "2025-06-04T06:21:42.227018Z",
     "start_time": "2025-06-04T06:21:42.170484Z"
    }
   },
   "outputs": [],
   "execution_count": 8
  },
  {
   "cell_type": "code",
   "source": "df_processed.info()",
   "metadata": {
    "trusted": true,
    "execution": {
     "iopub.status.busy": "2025-04-29T15:42:07.322018Z",
     "iopub.execute_input": "2025-04-29T15:42:07.322312Z",
     "iopub.status.idle": "2025-04-29T15:42:07.360667Z",
     "shell.execute_reply.started": "2025-04-29T15:42:07.322285Z",
     "shell.execute_reply": "2025-04-29T15:42:07.359733Z"
    },
    "id": "_4JAlUN-nHAR",
    "ExecuteTime": {
     "end_time": "2025-06-04T06:21:52.927759Z",
     "start_time": "2025-06-04T06:21:52.921524Z"
    }
   },
   "outputs": [
    {
     "name": "stdout",
     "output_type": "stream",
     "text": [
      "<class 'pandas.core.frame.DataFrame'>\n",
      "RangeIndex: 8693 entries, 0 to 8692\n",
      "Columns: 101 entries, PassengerId to CabinSide_U\n",
      "dtypes: bool(15), float64(43), int64(43)\n",
      "memory usage: 5.8 MB\n"
     ]
    }
   ],
   "execution_count": 10
  },
  {
   "metadata": {
    "ExecuteTime": {
     "end_time": "2025-06-04T06:22:55.960872Z",
     "start_time": "2025-06-04T06:22:55.953943Z"
    }
   },
   "cell_type": "code",
   "source": "df_processed.columns.to_list()",
   "outputs": [
    {
     "data": {
      "text/plain": [
       "['PassengerId',\n",
       " 'CryoSleep',\n",
       " 'Age',\n",
       " 'VIP',\n",
       " 'RoomService',\n",
       " 'FoodCourt',\n",
       " 'ShoppingMall',\n",
       " 'Spa',\n",
       " 'VRDeck',\n",
       " 'Transported',\n",
       " 'HasAgeOutlier',\n",
       " 'HasSpendingOutlier',\n",
       " 'PassengerGroup',\n",
       " 'GroupMember',\n",
       " 'GroupSize',\n",
       " 'GroupSurvivalRate',\n",
       " 'IsSolo',\n",
       " 'IsLargeGroup',\n",
       " 'GroupTotalSpend',\n",
       " 'CabinNum',\n",
       " 'DeckLevel',\n",
       " 'IsStarboard',\n",
       " 'IsPort',\n",
       " 'IsUnknownSide',\n",
       " 'CabinNumQuartile',\n",
       " 'IsLuxuryCabin',\n",
       " 'IsStandardCabin',\n",
       " 'HasCabin',\n",
       " 'TotalSpend',\n",
       " 'LuxurySpend',\n",
       " 'FoodSpend',\n",
       " 'ShoppingSpend',\n",
       " 'IsSpender',\n",
       " 'IsHighSpender',\n",
       " 'IsLowSpender',\n",
       " 'UsesLuxury',\n",
       " 'TotalSpend_Log',\n",
       " 'LuxurySpend_Log',\n",
       " 'FoodSpend_Log',\n",
       " 'TotalSpend_Sqrt',\n",
       " 'SpendDiversity',\n",
       " 'SpendPerGroupMember',\n",
       " 'SpendRatioInGroup',\n",
       " 'SpendPercentileInGroup',\n",
       " 'IsChild',\n",
       " 'IsTeen',\n",
       " 'IsYoungAdult',\n",
       " 'IsMiddleAged',\n",
       " 'IsElderly',\n",
       " 'Age_Squared',\n",
       " 'Age_Cubed',\n",
       " 'Age_Log',\n",
       " 'Age_Sqrt',\n",
       " 'PlanetSurvivalRate',\n",
       " 'DestSurvivalRate',\n",
       " 'PlanetDestSurvivalRate',\n",
       " 'FamilySize',\n",
       " 'FamilySurvivalRate',\n",
       " 'IsLargeFamily',\n",
       " 'IsMediumFamily',\n",
       " 'IsSingleFamily',\n",
       " 'FamilyGroupRatio',\n",
       " 'IsFamilyGroup',\n",
       " 'Age_Spending_Interaction',\n",
       " 'Age_Group_Interaction',\n",
       " 'Deck_Side_Interaction',\n",
       " 'Group_Spending_Interaction',\n",
       " 'Cryo_Age',\n",
       " 'Cryo_Deck',\n",
       " 'Cryo_VIP',\n",
       " 'Cryo_Spending',\n",
       " 'Cryo_Group',\n",
       " 'VIP_Spending',\n",
       " 'VIP_Age',\n",
       " 'VIP_Deck',\n",
       " 'Child_Cryo',\n",
       " 'Child_VIP',\n",
       " 'Elderly_Cryo',\n",
       " 'Age_Deck_Side',\n",
       " 'Spending_Deck_Side',\n",
       " 'LastName_TargetEncoded',\n",
       " 'FirstName_TargetEncoded',\n",
       " 'HomePlanet_Frequency',\n",
       " 'Destination_Frequency',\n",
       " 'CabinDeck_Frequency',\n",
       " 'FirstName_Frequency',\n",
       " 'LastName_Frequency',\n",
       " 'HomePlanet_Europa',\n",
       " 'HomePlanet_Mars',\n",
       " 'Destination_PSO J318.5-22',\n",
       " 'Destination_TRAPPIST-1e',\n",
       " 'CabinDeck_B',\n",
       " 'CabinDeck_C',\n",
       " 'CabinDeck_D',\n",
       " 'CabinDeck_E',\n",
       " 'CabinDeck_F',\n",
       " 'CabinDeck_G',\n",
       " 'CabinDeck_T',\n",
       " 'CabinDeck_Unknown',\n",
       " 'CabinSide_S',\n",
       " 'CabinSide_U']"
      ]
     },
     "execution_count": 13,
     "metadata": {},
     "output_type": "execute_result"
    }
   ],
   "execution_count": 13
  },
  {
   "cell_type": "markdown",
   "source": [
    "## 1.2: Model creation, hyperparameter tuning, and validation"
   ],
   "metadata": {
    "id": "MQGrMwxMnHAX"
   }
  },
  {
   "metadata": {},
   "cell_type": "markdown",
   "source": [
    "### STEP 1: Baseline Model Experimentation\n",
    "Evaluate both Tree-based and non-Tree ML models using K-fold CV to compare F1-macro, weighted F1, and accuracy scores. No feature engineering is applied. This serves as a baseline using raw numeric data for leaderboard benchmarking."
   ]
  },
  {
   "metadata": {
    "ExecuteTime": {
     "end_time": "2025-06-04T06:22:38.257765Z",
     "start_time": "2025-06-04T06:22:01.337850Z"
    }
   },
   "cell_type": "code",
   "source": [
    "%%time\n",
    "\n",
    "# Define short descriptions\n",
    "model_descriptions = {\n",
    "    \"Decision Tree\": \"A simple, interpretable tree that splits data based on feature thresholds.\",\n",
    "    \"Random Forest\": \"An ensemble of decision trees that improves generalization via bagging.\",\n",
    "    \"Gradient Boosting\": \"A sequential ensemble where each tree corrects errors from the last.\",\n",
    "    \"AdaBoost\": \"A boosting method that emphasizes misclassified examples during training.\",\n",
    "    \"Logistic Regression\": \"A linear model that predicts probabilities for classification tasks.\",\n",
    "    \"SVM\": \"A margin-based classifier that finds the optimal boundary between classes using support vectors.\",\n",
    "    \"XGBoost\": \"A scalable, regularized boosting method with tree-based learners.\",\n",
    "    \"LightGBM\": \"A fast, efficient gradient boosting method based on histogram-based learning.\",\n",
    "    \"CatBoost\": \"A gradient boosting library with native support for categorical features.\"\n",
    "}\n",
    "\n",
    "# Define model types\n",
    "model_types = {\n",
    "    \"Decision Tree\": \"Tree-Based\",\n",
    "    \"Random Forest\": \"Tree-Based\",\n",
    "    \"Gradient Boosting\": \"Tree-Based\",\n",
    "    \"AdaBoost\": \"Tree-Based\",\n",
    "    \"XGBoost\": \"Tree-Based\",\n",
    "    \"CatBoost\": \"Tree-Based\",\n",
    "    \"Logistic Regression\": \"Non-Tree\",\n",
    "    \"SVM\": \"Non-Tree\"\n",
    "}\n",
    "\n",
    "# Define models\n",
    "models = {\n",
    "    \"Decision Tree\": DecisionTreeClassifier(max_depth=3, random_state=0),\n",
    "    \"Random Forest\": RandomForestClassifier(n_estimators=100, random_state=0),\n",
    "    \"Gradient Boosting\": GradientBoostingClassifier(n_estimators=100, random_state=0),\n",
    "    \"AdaBoost\": AdaBoostClassifier(n_estimators=100, random_state=0),\n",
    "    \"Logistic Regression\": LogisticRegression(max_iter=5000, random_state=0),\n",
    "    \"SVM\": SVC(kernel=\"rbf\", C=1.0, probability=True, random_state=0),\n",
    "    \"XGBoost\": XGBClassifier(eval_metric='logloss', random_state=0),\n",
    "    \"CatBoost\": CatBoostClassifier(verbose=0, random_state=0)\n",
    "}\n",
    "\n",
    "separator = \"-\" * 60\n",
    "results = {}\n",
    "\n",
    "print(\"\\n📊 Starting model evaluation with 5-fold cross-validation\\n\")\n",
    "\n",
    "for name, model in models.items():\n",
    "    print(separator)\n",
    "    print(f\"🔍 Model: {name}\")\n",
    "    print(f\"🧠 Description: {model_descriptions.get(name, 'N/A')}\")\n",
    "    print(f\"⚙️  Params: {model.get_params()}\")\n",
    "\n",
    "    cv_result = cross_validate(\n",
    "        model, X_train, y_train,\n",
    "        cv=5,\n",
    "        scoring=[\"f1_macro\", \"f1_weighted\", \"accuracy\"],\n",
    "        return_train_score=True,\n",
    "        n_jobs=-1\n",
    "    )\n",
    "\n",
    "    results[name] = {\n",
    "        \"Model Type\": model_types[name],\n",
    "        \"Train F1 (Macro)\": np.mean(cv_result[\"train_f1_macro\"]),\n",
    "        \"CV F1 (Macro)\": np.mean(cv_result[\"test_f1_macro\"]),\n",
    "        \"CV F1 (Weighted)\": np.mean(cv_result[\"test_f1_weighted\"]),\n",
    "        \"CV Accuracy\": np.mean(cv_result[\"test_accuracy\"])\n",
    "    }\n",
    "\n",
    "    print(f\"✅ Train F1 (Macro): {results[name]['Train F1 (Macro)']:.2f}\")\n",
    "    print(f\"✅ CV F1 (Macro): {results[name]['CV F1 (Macro)']:.2f}\")\n",
    "    print(f\"✅ CV F1 (Weighted): {results[name]['CV F1 (Weighted)']:.2f}\")\n",
    "    print(f\"✅ CV Accuracy: {results[name]['CV Accuracy']:.2f}\")\n",
    "\n",
    "# Final summary\n",
    "print(\"\\n✅ All models evaluated. Summary below:\\n\")\n",
    "\n",
    "summary_df = pd.DataFrame(results).T.sort_values(\"CV Accuracy\", ascending=False)\n",
    "display(summary_df)\n"
   ],
   "outputs": [
    {
     "name": "stdout",
     "output_type": "stream",
     "text": [
      "\n",
      "📊 Starting model evaluation with 5-fold cross-validation\n",
      "\n",
      "------------------------------------------------------------\n",
      "🔍 Model: Decision Tree\n",
      "🧠 Description: A simple, interpretable tree that splits data based on feature thresholds.\n",
      "⚙️  Params: {'ccp_alpha': 0.0, 'class_weight': None, 'criterion': 'gini', 'max_depth': 3, 'max_features': None, 'max_leaf_nodes': None, 'min_impurity_decrease': 0.0, 'min_samples_leaf': 1, 'min_samples_split': 2, 'min_weight_fraction_leaf': 0.0, 'monotonic_cst': None, 'random_state': 0, 'splitter': 'best'}\n",
      "✅ Train F1 (Macro): 0.94\n",
      "✅ CV F1 (Macro): 0.94\n",
      "✅ CV F1 (Weighted): 0.94\n",
      "✅ CV Accuracy: 0.94\n",
      "------------------------------------------------------------\n",
      "🔍 Model: Random Forest\n",
      "🧠 Description: An ensemble of decision trees that improves generalization via bagging.\n",
      "⚙️  Params: {'bootstrap': True, 'ccp_alpha': 0.0, 'class_weight': None, 'criterion': 'gini', 'max_depth': None, 'max_features': 'sqrt', 'max_leaf_nodes': None, 'max_samples': None, 'min_impurity_decrease': 0.0, 'min_samples_leaf': 1, 'min_samples_split': 2, 'min_weight_fraction_leaf': 0.0, 'monotonic_cst': None, 'n_estimators': 100, 'n_jobs': None, 'oob_score': False, 'random_state': 0, 'verbose': 0, 'warm_start': False}\n",
      "✅ Train F1 (Macro): 1.00\n",
      "✅ CV F1 (Macro): 0.96\n",
      "✅ CV F1 (Weighted): 0.96\n",
      "✅ CV Accuracy: 0.96\n",
      "------------------------------------------------------------\n",
      "🔍 Model: Gradient Boosting\n",
      "🧠 Description: A sequential ensemble where each tree corrects errors from the last.\n",
      "⚙️  Params: {'ccp_alpha': 0.0, 'criterion': 'friedman_mse', 'init': None, 'learning_rate': 0.1, 'loss': 'log_loss', 'max_depth': 3, 'max_features': None, 'max_leaf_nodes': None, 'min_impurity_decrease': 0.0, 'min_samples_leaf': 1, 'min_samples_split': 2, 'min_weight_fraction_leaf': 0.0, 'n_estimators': 100, 'n_iter_no_change': None, 'random_state': 0, 'subsample': 1.0, 'tol': 0.0001, 'validation_fraction': 0.1, 'verbose': 0, 'warm_start': False}\n",
      "✅ Train F1 (Macro): 0.97\n",
      "✅ CV F1 (Macro): 0.96\n",
      "✅ CV F1 (Weighted): 0.96\n",
      "✅ CV Accuracy: 0.96\n",
      "------------------------------------------------------------\n",
      "🔍 Model: AdaBoost\n",
      "🧠 Description: A boosting method that emphasizes misclassified examples during training.\n",
      "⚙️  Params: {'algorithm': 'deprecated', 'estimator': None, 'learning_rate': 1.0, 'n_estimators': 100, 'random_state': 0}\n",
      "✅ Train F1 (Macro): 0.96\n",
      "✅ CV F1 (Macro): 0.95\n",
      "✅ CV F1 (Weighted): 0.95\n",
      "✅ CV Accuracy: 0.95\n",
      "------------------------------------------------------------\n",
      "🔍 Model: Logistic Regression\n",
      "🧠 Description: A linear model that predicts probabilities for classification tasks.\n",
      "⚙️  Params: {'C': 1.0, 'class_weight': None, 'dual': False, 'fit_intercept': True, 'intercept_scaling': 1, 'l1_ratio': None, 'max_iter': 5000, 'multi_class': 'deprecated', 'n_jobs': None, 'penalty': 'l2', 'random_state': 0, 'solver': 'lbfgs', 'tol': 0.0001, 'verbose': 0, 'warm_start': False}\n"
     ]
    },
    {
     "name": "stderr",
     "output_type": "stream",
     "text": [
      "/Users/deenuy/Documents/Workspace/Pet-projects/python_repos/queensu-workspace/869-spaceship-titanic/venv/lib/python3.10/site-packages/sklearn/linear_model/_logistic.py:465: ConvergenceWarning: lbfgs failed to converge (status=1):\n",
      "STOP: TOTAL NO. OF ITERATIONS REACHED LIMIT.\n",
      "\n",
      "Increase the number of iterations (max_iter) or scale the data as shown in:\n",
      "    https://scikit-learn.org/stable/modules/preprocessing.html\n",
      "Please also refer to the documentation for alternative solver options:\n",
      "    https://scikit-learn.org/stable/modules/linear_model.html#logistic-regression\n",
      "  n_iter_i = _check_optimize_result(\n",
      "/Users/deenuy/Documents/Workspace/Pet-projects/python_repos/queensu-workspace/869-spaceship-titanic/venv/lib/python3.10/site-packages/sklearn/linear_model/_logistic.py:465: ConvergenceWarning: lbfgs failed to converge (status=1):\n",
      "STOP: TOTAL NO. OF ITERATIONS REACHED LIMIT.\n",
      "\n",
      "Increase the number of iterations (max_iter) or scale the data as shown in:\n",
      "    https://scikit-learn.org/stable/modules/preprocessing.html\n",
      "Please also refer to the documentation for alternative solver options:\n",
      "    https://scikit-learn.org/stable/modules/linear_model.html#logistic-regression\n",
      "  n_iter_i = _check_optimize_result(\n",
      "/Users/deenuy/Documents/Workspace/Pet-projects/python_repos/queensu-workspace/869-spaceship-titanic/venv/lib/python3.10/site-packages/sklearn/linear_model/_logistic.py:465: ConvergenceWarning: lbfgs failed to converge (status=1):\n",
      "STOP: TOTAL NO. OF ITERATIONS REACHED LIMIT.\n",
      "\n",
      "Increase the number of iterations (max_iter) or scale the data as shown in:\n",
      "    https://scikit-learn.org/stable/modules/preprocessing.html\n",
      "Please also refer to the documentation for alternative solver options:\n",
      "    https://scikit-learn.org/stable/modules/linear_model.html#logistic-regression\n",
      "  n_iter_i = _check_optimize_result(\n",
      "/Users/deenuy/Documents/Workspace/Pet-projects/python_repos/queensu-workspace/869-spaceship-titanic/venv/lib/python3.10/site-packages/sklearn/linear_model/_logistic.py:465: ConvergenceWarning: lbfgs failed to converge (status=1):\n",
      "STOP: TOTAL NO. OF ITERATIONS REACHED LIMIT.\n",
      "\n",
      "Increase the number of iterations (max_iter) or scale the data as shown in:\n",
      "    https://scikit-learn.org/stable/modules/preprocessing.html\n",
      "Please also refer to the documentation for alternative solver options:\n",
      "    https://scikit-learn.org/stable/modules/linear_model.html#logistic-regression\n",
      "  n_iter_i = _check_optimize_result(\n",
      "/Users/deenuy/Documents/Workspace/Pet-projects/python_repos/queensu-workspace/869-spaceship-titanic/venv/lib/python3.10/site-packages/sklearn/linear_model/_logistic.py:465: ConvergenceWarning: lbfgs failed to converge (status=1):\n",
      "STOP: TOTAL NO. OF ITERATIONS REACHED LIMIT.\n",
      "\n",
      "Increase the number of iterations (max_iter) or scale the data as shown in:\n",
      "    https://scikit-learn.org/stable/modules/preprocessing.html\n",
      "Please also refer to the documentation for alternative solver options:\n",
      "    https://scikit-learn.org/stable/modules/linear_model.html#logistic-regression\n",
      "  n_iter_i = _check_optimize_result(\n"
     ]
    },
    {
     "name": "stdout",
     "output_type": "stream",
     "text": [
      "✅ Train F1 (Macro): 0.78\n",
      "✅ CV F1 (Macro): 0.77\n",
      "✅ CV F1 (Weighted): 0.77\n",
      "✅ CV Accuracy: 0.77\n",
      "------------------------------------------------------------\n",
      "🔍 Model: SVM\n",
      "🧠 Description: A margin-based classifier that finds the optimal boundary between classes using support vectors.\n",
      "⚙️  Params: {'C': 1.0, 'break_ties': False, 'cache_size': 200, 'class_weight': None, 'coef0': 0.0, 'decision_function_shape': 'ovr', 'degree': 3, 'gamma': 'scale', 'kernel': 'rbf', 'max_iter': -1, 'probability': True, 'random_state': 0, 'shrinking': True, 'tol': 0.001, 'verbose': False}\n",
      "✅ Train F1 (Macro): 0.61\n",
      "✅ CV F1 (Macro): 0.59\n",
      "✅ CV F1 (Weighted): 0.59\n",
      "✅ CV Accuracy: 0.60\n",
      "------------------------------------------------------------\n",
      "🔍 Model: XGBoost\n",
      "🧠 Description: A scalable, regularized boosting method with tree-based learners.\n",
      "⚙️  Params: {'objective': 'binary:logistic', 'base_score': None, 'booster': None, 'callbacks': None, 'colsample_bylevel': None, 'colsample_bynode': None, 'colsample_bytree': None, 'device': None, 'early_stopping_rounds': None, 'enable_categorical': False, 'eval_metric': 'logloss', 'feature_types': None, 'feature_weights': None, 'gamma': None, 'grow_policy': None, 'importance_type': None, 'interaction_constraints': None, 'learning_rate': None, 'max_bin': None, 'max_cat_threshold': None, 'max_cat_to_onehot': None, 'max_delta_step': None, 'max_depth': None, 'max_leaves': None, 'min_child_weight': None, 'missing': nan, 'monotone_constraints': None, 'multi_strategy': None, 'n_estimators': None, 'n_jobs': None, 'num_parallel_tree': None, 'random_state': 0, 'reg_alpha': None, 'reg_lambda': None, 'sampling_method': None, 'scale_pos_weight': None, 'subsample': None, 'tree_method': None, 'validate_parameters': None, 'verbosity': None}\n",
      "✅ Train F1 (Macro): 1.00\n",
      "✅ CV F1 (Macro): 0.96\n",
      "✅ CV F1 (Weighted): 0.96\n",
      "✅ CV Accuracy: 0.96\n",
      "------------------------------------------------------------\n",
      "🔍 Model: CatBoost\n",
      "🧠 Description: A gradient boosting library with native support for categorical features.\n",
      "⚙️  Params: {'verbose': 0, 'random_state': 0}\n",
      "✅ Train F1 (Macro): 1.00\n",
      "✅ CV F1 (Macro): 0.96\n",
      "✅ CV F1 (Weighted): 0.96\n",
      "✅ CV Accuracy: 0.96\n",
      "\n",
      "✅ All models evaluated. Summary below:\n",
      "\n"
     ]
    },
    {
     "data": {
      "text/plain": [
       "                     Model Type Train F1 (Macro) CV F1 (Macro)  \\\n",
       "CatBoost             Tree-Based         0.995657      0.958792   \n",
       "Gradient Boosting    Tree-Based         0.972046      0.957635   \n",
       "XGBoost              Tree-Based              1.0      0.957303   \n",
       "Random Forest        Tree-Based              1.0      0.957316   \n",
       "AdaBoost             Tree-Based          0.95824      0.954778   \n",
       "Decision Tree        Tree-Based         0.939229       0.93776   \n",
       "Logistic Regression    Non-Tree         0.778769      0.770847   \n",
       "SVM                    Non-Tree         0.606735      0.594704   \n",
       "\n",
       "                    CV F1 (Weighted) CV Accuracy  \n",
       "CatBoost                    0.958788    0.958818  \n",
       "Gradient Boosting            0.95763    0.957667  \n",
       "XGBoost                     0.957301    0.957322  \n",
       "Random Forest               0.957315    0.957321  \n",
       "AdaBoost                    0.954777     0.95479  \n",
       "Decision Tree               0.937757    0.937765  \n",
       "Logistic Regression         0.770869    0.771314  \n",
       "SVM                         0.594638    0.595997  "
      ],
      "text/html": [
       "<div>\n",
       "<style scoped>\n",
       "    .dataframe tbody tr th:only-of-type {\n",
       "        vertical-align: middle;\n",
       "    }\n",
       "\n",
       "    .dataframe tbody tr th {\n",
       "        vertical-align: top;\n",
       "    }\n",
       "\n",
       "    .dataframe thead th {\n",
       "        text-align: right;\n",
       "    }\n",
       "</style>\n",
       "<table border=\"1\" class=\"dataframe\">\n",
       "  <thead>\n",
       "    <tr style=\"text-align: right;\">\n",
       "      <th></th>\n",
       "      <th>Model Type</th>\n",
       "      <th>Train F1 (Macro)</th>\n",
       "      <th>CV F1 (Macro)</th>\n",
       "      <th>CV F1 (Weighted)</th>\n",
       "      <th>CV Accuracy</th>\n",
       "    </tr>\n",
       "  </thead>\n",
       "  <tbody>\n",
       "    <tr>\n",
       "      <th>CatBoost</th>\n",
       "      <td>Tree-Based</td>\n",
       "      <td>0.995657</td>\n",
       "      <td>0.958792</td>\n",
       "      <td>0.958788</td>\n",
       "      <td>0.958818</td>\n",
       "    </tr>\n",
       "    <tr>\n",
       "      <th>Gradient Boosting</th>\n",
       "      <td>Tree-Based</td>\n",
       "      <td>0.972046</td>\n",
       "      <td>0.957635</td>\n",
       "      <td>0.95763</td>\n",
       "      <td>0.957667</td>\n",
       "    </tr>\n",
       "    <tr>\n",
       "      <th>XGBoost</th>\n",
       "      <td>Tree-Based</td>\n",
       "      <td>1.0</td>\n",
       "      <td>0.957303</td>\n",
       "      <td>0.957301</td>\n",
       "      <td>0.957322</td>\n",
       "    </tr>\n",
       "    <tr>\n",
       "      <th>Random Forest</th>\n",
       "      <td>Tree-Based</td>\n",
       "      <td>1.0</td>\n",
       "      <td>0.957316</td>\n",
       "      <td>0.957315</td>\n",
       "      <td>0.957321</td>\n",
       "    </tr>\n",
       "    <tr>\n",
       "      <th>AdaBoost</th>\n",
       "      <td>Tree-Based</td>\n",
       "      <td>0.95824</td>\n",
       "      <td>0.954778</td>\n",
       "      <td>0.954777</td>\n",
       "      <td>0.95479</td>\n",
       "    </tr>\n",
       "    <tr>\n",
       "      <th>Decision Tree</th>\n",
       "      <td>Tree-Based</td>\n",
       "      <td>0.939229</td>\n",
       "      <td>0.93776</td>\n",
       "      <td>0.937757</td>\n",
       "      <td>0.937765</td>\n",
       "    </tr>\n",
       "    <tr>\n",
       "      <th>Logistic Regression</th>\n",
       "      <td>Non-Tree</td>\n",
       "      <td>0.778769</td>\n",
       "      <td>0.770847</td>\n",
       "      <td>0.770869</td>\n",
       "      <td>0.771314</td>\n",
       "    </tr>\n",
       "    <tr>\n",
       "      <th>SVM</th>\n",
       "      <td>Non-Tree</td>\n",
       "      <td>0.606735</td>\n",
       "      <td>0.594704</td>\n",
       "      <td>0.594638</td>\n",
       "      <td>0.595997</td>\n",
       "    </tr>\n",
       "  </tbody>\n",
       "</table>\n",
       "</div>"
      ]
     },
     "metadata": {},
     "output_type": "display_data"
    },
    {
     "name": "stdout",
     "output_type": "stream",
     "text": [
      "CPU times: user 114 ms, sys: 135 ms, total: 249 ms\n",
      "Wall time: 36.9 s\n"
     ]
    }
   ],
   "execution_count": 11
  },
  {
   "metadata": {},
   "cell_type": "code",
   "outputs": [],
   "execution_count": null,
   "source": ""
  }
 ]
}
