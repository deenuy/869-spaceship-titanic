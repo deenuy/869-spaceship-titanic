{
 "cells": [
  {
   "cell_type": "markdown",
   "metadata": {
    "colab_type": "text",
    "id": "view-in-github"
   },
   "source": [
    "<a href=\"https://colab.research.google.com/github/stepthom/869_course/blob/main/2026%20869%20Project%20Template.ipynb\" target=\"_parent\"><img src=\"https://colab.research.google.com/assets/colab-badge.svg\" alt=\"Open In Colab\"/></a>"
   ]
  },
  {
   "cell_type": "markdown",
   "metadata": {
    "id": "T_JqF4nhnHAK"
   },
   "source": [
    "# MMAI 869 Project: Example Notebook\n",
    "\n",
    "*Updated May 1, 2025*\n",
    "\n",
    "This notebook serves as a template for the Team Project. Teams can use this notebook as a starting point, and update it successively with new ideas and techniques to improve their model results.\n",
    "\n",
    "Note that is not required to use this template. Teams may also alter this template in any way they see fit."
   ]
  },
  {
   "cell_type": "markdown",
   "metadata": {
    "id": "5h8kN7e4nHAM"
   },
   "source": [
    "# Preliminaries: Inspect and Set up environment\n",
    "\n",
    "No action is required on your part in this section. These cells print out helpful information about the environment, just in case."
   ]
  },
  {
   "cell_type": "code",
   "metadata": {
    "_cell_guid": "b1076dfc-b9ad-4769-8c92-a6c4dae69d19",
    "_uuid": "8f2839f25d086af736a60e9eeb907d3b93b6e0e5",
    "id": "iFGZKq7dnHAN",
    "ExecuteTime": {
     "end_time": "2025-06-04T03:38:05.126373Z",
     "start_time": "2025-06-04T03:38:04.797399Z"
    }
   },
   "source": [
    "import pandas as pd\n",
    "import matplotlib.pyplot as plt\n",
    "import numpy as np\n",
    "import seaborn as sns\n",
    "\n",
    "from sklearn.preprocessing import LabelEncoder\n",
    "from sklearn.model_selection import train_test_split, cross_val_score\n",
    "from sklearn.linear_model import LogisticRegression\n",
    "from sklearn.neighbors import KNeighborsClassifier\n",
    "from sklearn.tree import DecisionTreeClassifier\n",
    "from sklearn.ensemble import RandomForestClassifier,ExtraTreesClassifier\n",
    "from lightgbm import LGBMClassifier\n",
    "from sklearn.metrics import accuracy_score, classification_report\n"
   ],
   "outputs": [],
   "execution_count": 1
  },
  {
   "cell_type": "code",
   "metadata": {
    "id": "A-bJSWOTnHAO",
    "ExecuteTime": {
     "end_time": "2025-06-04T03:38:11.993236Z",
     "start_time": "2025-06-04T03:38:11.991241Z"
    }
   },
   "source": [
    "import datetime\n",
    "print(datetime.datetime.now())"
   ],
   "outputs": [
    {
     "name": "stdout",
     "output_type": "stream",
     "text": [
      "2025-06-03 23:38:11.991945\n"
     ]
    }
   ],
   "execution_count": 2
  },
  {
   "cell_type": "code",
   "metadata": {
    "id": "M8P3CPDmnHAP",
    "ExecuteTime": {
     "end_time": "2025-06-04T03:38:12.533684Z",
     "start_time": "2025-06-04T03:38:12.389445Z"
    }
   },
   "source": [
    "!python3 --version"
   ],
   "outputs": [
    {
     "name": "stdout",
     "output_type": "stream",
     "text": [
      "Python 3.10.16\r\n"
     ]
    }
   ],
   "execution_count": 3
  },
  {
   "cell_type": "code",
   "metadata": {
    "id": "uGc85VOCnHAP",
    "ExecuteTime": {
     "end_time": "2025-06-04T03:38:12.611804Z",
     "start_time": "2025-06-04T03:38:12.609535Z"
    }
   },
   "source": [
    "# TODO: if you need to install any package, do so here. For example:\n",
    "#pip install unidecode"
   ],
   "outputs": [],
   "execution_count": 4
  },
  {
   "cell_type": "markdown",
   "metadata": {
    "id": "c5EsSXF-nHAQ"
   },
   "source": [
    "# 0: Data Loading and Inspection"
   ]
  },
  {
   "cell_type": "code",
   "metadata": {
    "id": "t9bKTR3fnHAQ",
    "ExecuteTime": {
     "end_time": "2025-06-04T03:38:14.301640Z",
     "start_time": "2025-06-04T03:38:14.011073Z"
    }
   },
   "source": [
    "df = pd.read_csv(\"https://raw.githubusercontent.com/stepthom/869_course/refs/heads/main/data/spaceship_titanic_train.csv\")"
   ],
   "outputs": [],
   "execution_count": 5
  },
  {
   "cell_type": "code",
   "metadata": {
    "id": "_4JAlUN-nHAR",
    "ExecuteTime": {
     "end_time": "2025-06-04T03:38:15.421199Z",
     "start_time": "2025-06-04T03:38:15.410118Z"
    }
   },
   "source": [
    "df.info()"
   ],
   "outputs": [
    {
     "name": "stdout",
     "output_type": "stream",
     "text": [
      "<class 'pandas.core.frame.DataFrame'>\n",
      "RangeIndex: 8693 entries, 0 to 8692\n",
      "Data columns (total 14 columns):\n",
      " #   Column        Non-Null Count  Dtype  \n",
      "---  ------        --------------  -----  \n",
      " 0   PassengerId   8693 non-null   object \n",
      " 1   HomePlanet    8492 non-null   object \n",
      " 2   CryoSleep     8476 non-null   object \n",
      " 3   Cabin         8494 non-null   object \n",
      " 4   Destination   8511 non-null   object \n",
      " 5   Age           8514 non-null   float64\n",
      " 6   VIP           8490 non-null   object \n",
      " 7   RoomService   8512 non-null   float64\n",
      " 8   FoodCourt     8510 non-null   float64\n",
      " 9   ShoppingMall  8485 non-null   float64\n",
      " 10  Spa           8510 non-null   float64\n",
      " 11  VRDeck        8505 non-null   float64\n",
      " 12  Name          8493 non-null   object \n",
      " 13  Transported   8693 non-null   bool   \n",
      "dtypes: bool(1), float64(6), object(7)\n",
      "memory usage: 891.5+ KB\n"
     ]
    }
   ],
   "execution_count": 6
  },
  {
   "cell_type": "code",
   "metadata": {
    "id": "qH-m99m1nHAS",
    "ExecuteTime": {
     "end_time": "2025-06-04T03:38:22.151884Z",
     "start_time": "2025-06-04T03:38:22.123651Z"
    }
   },
   "source": [
    "# Let's print some descriptive statistics for all the numeric features.\n",
    "\n",
    "df.describe().T\n",
    "# This gives that it is highly right-skewed for all numeric features apart from age\n",
    "# The age distribution is right-skewed. The majority of passengers are young adults (20–30).\n",
    "# The median is close to the mean, the skew isn't too extreme."
   ],
   "outputs": [
    {
     "data": {
      "text/plain": [
       "               count        mean          std  min   25%   50%   75%      max\n",
       "Age           8514.0   28.827930    14.489021  0.0  19.0  27.0  38.0     79.0\n",
       "RoomService   8512.0  224.687617   666.717663  0.0   0.0   0.0  47.0  14327.0\n",
       "FoodCourt     8510.0  458.077203  1611.489240  0.0   0.0   0.0  76.0  29813.0\n",
       "ShoppingMall  8485.0  173.729169   604.696458  0.0   0.0   0.0  27.0  23492.0\n",
       "Spa           8510.0  311.138778  1136.705535  0.0   0.0   0.0  59.0  22408.0\n",
       "VRDeck        8505.0  304.854791  1145.717189  0.0   0.0   0.0  46.0  24133.0"
      ],
      "text/html": [
       "<div>\n",
       "<style scoped>\n",
       "    .dataframe tbody tr th:only-of-type {\n",
       "        vertical-align: middle;\n",
       "    }\n",
       "\n",
       "    .dataframe tbody tr th {\n",
       "        vertical-align: top;\n",
       "    }\n",
       "\n",
       "    .dataframe thead th {\n",
       "        text-align: right;\n",
       "    }\n",
       "</style>\n",
       "<table border=\"1\" class=\"dataframe\">\n",
       "  <thead>\n",
       "    <tr style=\"text-align: right;\">\n",
       "      <th></th>\n",
       "      <th>count</th>\n",
       "      <th>mean</th>\n",
       "      <th>std</th>\n",
       "      <th>min</th>\n",
       "      <th>25%</th>\n",
       "      <th>50%</th>\n",
       "      <th>75%</th>\n",
       "      <th>max</th>\n",
       "    </tr>\n",
       "  </thead>\n",
       "  <tbody>\n",
       "    <tr>\n",
       "      <th>Age</th>\n",
       "      <td>8514.0</td>\n",
       "      <td>28.827930</td>\n",
       "      <td>14.489021</td>\n",
       "      <td>0.0</td>\n",
       "      <td>19.0</td>\n",
       "      <td>27.0</td>\n",
       "      <td>38.0</td>\n",
       "      <td>79.0</td>\n",
       "    </tr>\n",
       "    <tr>\n",
       "      <th>RoomService</th>\n",
       "      <td>8512.0</td>\n",
       "      <td>224.687617</td>\n",
       "      <td>666.717663</td>\n",
       "      <td>0.0</td>\n",
       "      <td>0.0</td>\n",
       "      <td>0.0</td>\n",
       "      <td>47.0</td>\n",
       "      <td>14327.0</td>\n",
       "    </tr>\n",
       "    <tr>\n",
       "      <th>FoodCourt</th>\n",
       "      <td>8510.0</td>\n",
       "      <td>458.077203</td>\n",
       "      <td>1611.489240</td>\n",
       "      <td>0.0</td>\n",
       "      <td>0.0</td>\n",
       "      <td>0.0</td>\n",
       "      <td>76.0</td>\n",
       "      <td>29813.0</td>\n",
       "    </tr>\n",
       "    <tr>\n",
       "      <th>ShoppingMall</th>\n",
       "      <td>8485.0</td>\n",
       "      <td>173.729169</td>\n",
       "      <td>604.696458</td>\n",
       "      <td>0.0</td>\n",
       "      <td>0.0</td>\n",
       "      <td>0.0</td>\n",
       "      <td>27.0</td>\n",
       "      <td>23492.0</td>\n",
       "    </tr>\n",
       "    <tr>\n",
       "      <th>Spa</th>\n",
       "      <td>8510.0</td>\n",
       "      <td>311.138778</td>\n",
       "      <td>1136.705535</td>\n",
       "      <td>0.0</td>\n",
       "      <td>0.0</td>\n",
       "      <td>0.0</td>\n",
       "      <td>59.0</td>\n",
       "      <td>22408.0</td>\n",
       "    </tr>\n",
       "    <tr>\n",
       "      <th>VRDeck</th>\n",
       "      <td>8505.0</td>\n",
       "      <td>304.854791</td>\n",
       "      <td>1145.717189</td>\n",
       "      <td>0.0</td>\n",
       "      <td>0.0</td>\n",
       "      <td>0.0</td>\n",
       "      <td>46.0</td>\n",
       "      <td>24133.0</td>\n",
       "    </tr>\n",
       "  </tbody>\n",
       "</table>\n",
       "</div>"
      ]
     },
     "execution_count": 7,
     "metadata": {},
     "output_type": "execute_result"
    }
   ],
   "execution_count": 7
  },
  {
   "cell_type": "code",
   "metadata": {
    "id": "y6t3WYxWnHAT",
    "ExecuteTime": {
     "end_time": "2025-06-04T03:38:28.640636Z",
     "start_time": "2025-06-04T03:38:28.610878Z"
    }
   },
   "source": [
    "# Let's print some descriptive statistics for all the numeric features.\n",
    "\n",
    "df.describe().T# What is the number of unique values in all the categorical features? And what is\n",
    "# the value with the highest frequency?\n",
    "\n",
    "df.describe(include=object).T\n",
    "# can frop 'Name' feature\n",
    "# looking at the dataset from cabin, can see whether or not passenger is solo or in a group. "
   ],
   "outputs": [
    {
     "data": {
      "text/plain": [
       "            count unique             top  freq\n",
       "PassengerId  8693   8693         0001_01     1\n",
       "HomePlanet   8492      3           Earth  4602\n",
       "CryoSleep    8476      2           False  5439\n",
       "Cabin        8494   6560         G/734/S     8\n",
       "Destination  8511      3     TRAPPIST-1e  5915\n",
       "VIP          8490      2           False  8291\n",
       "Name         8493   8473  Gollux Reedall     2"
      ],
      "text/html": [
       "<div>\n",
       "<style scoped>\n",
       "    .dataframe tbody tr th:only-of-type {\n",
       "        vertical-align: middle;\n",
       "    }\n",
       "\n",
       "    .dataframe tbody tr th {\n",
       "        vertical-align: top;\n",
       "    }\n",
       "\n",
       "    .dataframe thead th {\n",
       "        text-align: right;\n",
       "    }\n",
       "</style>\n",
       "<table border=\"1\" class=\"dataframe\">\n",
       "  <thead>\n",
       "    <tr style=\"text-align: right;\">\n",
       "      <th></th>\n",
       "      <th>count</th>\n",
       "      <th>unique</th>\n",
       "      <th>top</th>\n",
       "      <th>freq</th>\n",
       "    </tr>\n",
       "  </thead>\n",
       "  <tbody>\n",
       "    <tr>\n",
       "      <th>PassengerId</th>\n",
       "      <td>8693</td>\n",
       "      <td>8693</td>\n",
       "      <td>0001_01</td>\n",
       "      <td>1</td>\n",
       "    </tr>\n",
       "    <tr>\n",
       "      <th>HomePlanet</th>\n",
       "      <td>8492</td>\n",
       "      <td>3</td>\n",
       "      <td>Earth</td>\n",
       "      <td>4602</td>\n",
       "    </tr>\n",
       "    <tr>\n",
       "      <th>CryoSleep</th>\n",
       "      <td>8476</td>\n",
       "      <td>2</td>\n",
       "      <td>False</td>\n",
       "      <td>5439</td>\n",
       "    </tr>\n",
       "    <tr>\n",
       "      <th>Cabin</th>\n",
       "      <td>8494</td>\n",
       "      <td>6560</td>\n",
       "      <td>G/734/S</td>\n",
       "      <td>8</td>\n",
       "    </tr>\n",
       "    <tr>\n",
       "      <th>Destination</th>\n",
       "      <td>8511</td>\n",
       "      <td>3</td>\n",
       "      <td>TRAPPIST-1e</td>\n",
       "      <td>5915</td>\n",
       "    </tr>\n",
       "    <tr>\n",
       "      <th>VIP</th>\n",
       "      <td>8490</td>\n",
       "      <td>2</td>\n",
       "      <td>False</td>\n",
       "      <td>8291</td>\n",
       "    </tr>\n",
       "    <tr>\n",
       "      <th>Name</th>\n",
       "      <td>8493</td>\n",
       "      <td>8473</td>\n",
       "      <td>Gollux Reedall</td>\n",
       "      <td>2</td>\n",
       "    </tr>\n",
       "  </tbody>\n",
       "</table>\n",
       "</div>"
      ]
     },
     "execution_count": 8,
     "metadata": {},
     "output_type": "execute_result"
    }
   ],
   "execution_count": 8
  },
  {
   "cell_type": "code",
   "metadata": {
    "id": "Ds-GenRSnHAT",
    "ExecuteTime": {
     "end_time": "2025-06-04T03:38:32.585347Z",
     "start_time": "2025-06-04T03:38:32.578251Z"
    }
   },
   "source": [
    "# How much missing data is in each feature?\n",
    "\n",
    "df.isna().sum()"
   ],
   "outputs": [
    {
     "data": {
      "text/plain": [
       "PassengerId       0\n",
       "HomePlanet      201\n",
       "CryoSleep       217\n",
       "Cabin           199\n",
       "Destination     182\n",
       "Age             179\n",
       "VIP             203\n",
       "RoomService     181\n",
       "FoodCourt       183\n",
       "ShoppingMall    208\n",
       "Spa             183\n",
       "VRDeck          188\n",
       "Name            200\n",
       "Transported       0\n",
       "dtype: int64"
      ]
     },
     "execution_count": 9,
     "metadata": {},
     "output_type": "execute_result"
    }
   ],
   "execution_count": 9
  },
  {
   "cell_type": "code",
   "metadata": {
    "id": "x6osteVLnHAU",
    "ExecuteTime": {
     "end_time": "2025-06-04T03:38:37.562693Z",
     "start_time": "2025-06-04T03:38:37.557218Z"
    }
   },
   "source": [
    "# For convienience, let's save the names of all numeric features to a list,\n",
    "# and the names of all categorical features to another list.\n",
    "\n",
    "numeric_features = ['Age', 'RoomService', 'FoodCourt', 'ShoppingMall', 'Spa', 'VRDeck']\n",
    "\n",
    "categorical_features = ['HomePlanet', 'VIP', 'CryoSleep', 'Destination', 'Cabin', 'Name']"
   ],
   "outputs": [],
   "execution_count": 10
  },
  {
   "cell_type": "code",
   "metadata": {
    "id": "sff9tw3NnHAU",
    "ExecuteTime": {
     "end_time": "2025-06-04T03:38:42.796975Z",
     "start_time": "2025-06-04T03:38:42.418516Z"
    }
   },
   "source": [
    "# TODO: Can add more EDA here, as desired\n",
    "# Univariate data exploration\n",
    "sns.histplot(df['VRDeck'], bins=50)\n",
    "# highly rigt-skewed - check number of passenger with 0 spending \n",
    "columns_to_check_spend0 = ['RoomService', 'FoodCourt', 'ShoppingMall', 'Spa', 'VRDeck']\n",
    "(df[columns_to_check_spend0] == 0).sum()\n",
    "# for all, more than half with 0 spending -> can think transfrom into binary variables, or combine them all together "
   ],
   "outputs": [
    {
     "data": {
      "text/plain": [
       "RoomService     5577\n",
       "FoodCourt       5456\n",
       "ShoppingMall    5587\n",
       "Spa             5324\n",
       "VRDeck          5495\n",
       "dtype: int64"
      ]
     },
     "execution_count": 11,
     "metadata": {},
     "output_type": "execute_result"
    },
    {
     "data": {
      "text/plain": [
       "<Figure size 640x480 with 1 Axes>"
      ],
      "image/png": "[encoded data removed]"
     },
     "metadata": {},
     "output_type": "display_data"
    }
   ],
   "execution_count": 11
  },
  {
   "cell_type": "code",
   "metadata": {
    "ExecuteTime": {
     "end_time": "2025-06-04T03:38:49.259468Z",
     "start_time": "2025-06-04T03:38:49.253888Z"
    }
   },
   "source": [
    "df['TotalSpend'] = df[columns_to_check_spend0].sum(axis=1)\n",
    "(df['TotalSpend'] == 0).sum()\n",
    "# almost half with 0 total spending, may use this in the model!"
   ],
   "outputs": [
    {
     "data": {
      "text/plain": [
       "np.int64(3653)"
      ]
     },
     "execution_count": 12,
     "metadata": {},
     "output_type": "execute_result"
    }
   ],
   "execution_count": 12
  },
  {
   "cell_type": "code",
   "metadata": {
    "ExecuteTime": {
     "end_time": "2025-06-04T03:38:50.756724Z",
     "start_time": "2025-06-04T03:38:50.695829Z"
    }
   },
   "source": [
    "# Bivariate data exploration\n",
    "# --- Numeric feature vs target (classification) 'RoomService', 'FoodCourt', 'ShoppingMall', 'Spa', 'VRDeck'\n",
    "sns.boxplot(x='Transported', y='VRDeck', data=df) \n",
    "# 'RoomService', 'Spa', 'VRDeck' -- Similar\n",
    "# People who spent a lot on VRDeck were less likely to be transported.\n",
    "# In contrast, low or zero spending is more common among those who were transported. -- support transform to binary variable\n",
    "# sns.histplot(data=df, x='VRDeck', hue='Transported', kde=True, bins=50) "
   ],
   "outputs": [
    {
     "data": {
      "text/plain": [
       "<Axes: xlabel='Transported', ylabel='VRDeck'>"
      ]
     },
     "execution_count": 13,
     "metadata": {},
     "output_type": "execute_result"
    },
    {
     "data": {
      "text/plain": [
       "<Figure size 640x480 with 1 Axes>"
      ],
      "image/png": "[encoded data removed]"
     },
     "metadata": {},
     "output_type": "display_data"
    }
   ],
   "execution_count": 13
  },
  {
   "cell_type": "code",
   "metadata": {
    "ExecuteTime": {
     "end_time": "2025-06-04T03:38:51.445916Z",
     "start_time": "2025-06-04T03:38:51.443726Z"
    }
   },
   "source": [
    "# 'RoomService', 'FoodCourt', 'ShoppingMall', 'Spa', 'VRDeck'\n",
    "#df['VRDeck_log'] = np.log1p(df['VRDeck'])  # log(1 + x) to avoid log(0)\n",
    "#df['VRDeck_bin'] = pd.cut(df['VRDeck'], bins=[-0.1, 0, np.inf],\n",
    "#                          labels=['Zero', 'Low'])\n",
    "#sns.countplot(x='VRDeck_bin', hue='Transported', data=df)"
   ],
   "outputs": [],
   "execution_count": 14
  },
  {
   "cell_type": "code",
   "metadata": {
    "ExecuteTime": {
     "end_time": "2025-06-04T03:38:52.378837Z",
     "start_time": "2025-06-04T03:38:52.113159Z"
    }
   },
   "source": [
    "# --- Categorical feature vs target (classification)\n",
    "target = 'Transported'\n",
    "\n",
    "for col in categorical_features:\n",
    "    if df[col].nunique() < 20:\n",
    "        ct = pd.crosstab(df[col], df[target])             \n",
    "        norm_ct = ct.div(ct.sum(axis=1), axis=0)         \n",
    "\n",
    "        ax = norm_ct.plot(kind='bar', stacked=True, figsize=(8, 5), colormap='Set2')\n",
    "\n",
    "        for i, (index, row) in enumerate(ct.iterrows()):\n",
    "            total = row.sum()\n",
    "            bottom = 0\n",
    "            for j, count in enumerate(row):\n",
    "                height = count / total\n",
    "                if count > 0:\n",
    "                    ax.text(i, bottom + height / 2, str(count), ha='center', va='center', fontsize=9)\n",
    "                bottom += height\n",
    "\n",
    "            ax.text(i, 1.02, f'Total: {total}', ha='center', va='bottom', fontsize=9, fontweight='bold')\n",
    "\n",
    "        plt.title(f'Transported distribution by {col}')\n",
    "        plt.ylabel('Proportion')\n",
    "        plt.xlabel(col)\n",
    "        plt.ylim(0, 1.1)  # to make space for total label\n",
    "        plt.legend(title='Transported')\n",
    "        plt.tight_layout()\n",
    "        plt.show()\n",
    "# Passengers from Europa (~20% of population) are much more likely to be transported\n",
    "# Being a VIP 'might' be negatively associated with being transported. -- as majority of passengers are NON-VIP -> may consider drop this\n",
    "# Being in CryoSleep is strongly associated with a higher chance of being Transported.\n",
    "# Destination has some predictive value, especially for distinguishing 55 Cancri e (~20% of population) but other ~0.5 -> may consider drop"
   ],
   "outputs": [
    {
     "data": {
      "text/plain": [
       "<Figure size 800x500 with 1 Axes>"
      ],
      "image/png": "[encoded data removed]"
     },
     "metadata": {},
     "output_type": "display_data"
    },
    {
     "data": {
      "text/plain": [
       "<Figure size 800x500 with 1 Axes>"
      ],
      "image/png": "[encoded data removed]"
     },
     "metadata": {},
     "output_type": "display_data"
    },
    {
     "data": {
      "text/plain": [
       "<Figure size 800x500 with 1 Axes>"
      ],
      "image/png": "[encoded data removed]"
     },
     "metadata": {},
     "output_type": "display_data"
    },
    {
     "data": {
      "text/plain": [
       "<Figure size 800x500 with 1 Axes>"
      ],
      "image/png": "[encoded data removed]"
     },
     "metadata": {},
     "output_type": "display_data"
    }
   ],
   "execution_count": 15
  },
  {
   "cell_type": "markdown",
   "metadata": {
    "id": "C6W9v7svnHAV"
   },
   "source": [
    "# 1: Pipeline 1: Simple Feature Engineering and then Decision Tree"
   ]
  },
  {
   "cell_type": "code",
   "metadata": {
    "id": "_-SSovOHnHAV",
    "ExecuteTime": {
     "end_time": "2025-06-04T03:38:54.044025Z",
     "start_time": "2025-06-04T03:38:54.037730Z"
    }
   },
   "source": [
    "from sklearn.tree import DecisionTreeClassifier\n",
    "from sklearn.impute import SimpleImputer\n",
    "from sklearn.model_selection import cross_validate\n",
    "from sklearn.model_selection import train_test_split"
   ],
   "outputs": [],
   "execution_count": 16
  },
  {
   "cell_type": "code",
   "metadata": {
    "id": "NrgbYV13nHAV",
    "ExecuteTime": {
     "end_time": "2025-06-04T03:38:54.867717Z",
     "start_time": "2025-06-04T03:38:54.863502Z"
    }
   },
   "source": [
    "# Scikit-learn needs us to put the features in one dataframe, and the label in another.\n",
    "# It's tradition to name these variables X and y, but it doesn't really matter.\n",
    "\n",
    "X = df.drop(['PassengerId', 'Transported', 'Name'], axis=1)\n",
    "y = df['Transported']"
   ],
   "outputs": [],
   "execution_count": 17
  },
  {
   "cell_type": "markdown",
   "metadata": {
    "id": "pF8cgozgnHAV"
   },
   "source": [
    "## 1.1: Cleaning and FE"
   ]
  },
  {
   "cell_type": "code",
   "execution_count": 12,
   "metadata": {
    "id": "Sl4aB8vMnHAW"
   },
   "outputs": [],
   "source": [
    "# We know this dataset has categorical features, and we also know that DTs don't\n",
    "# allow categorical features. For now, we'll just remove (i.e., drop) these\n",
    "# features.\n",
    "#\n",
    "# TODO: do something better, like encode them (as discussed in the course)\n",
    "\n",
    "#X = X.drop(categorical_features, axis=1, errors='ignore')\n",
    "# need to fill in missing value first before encoding"
   ]
  },
  {
   "cell_type": "code",
   "execution_count": 13,
   "metadata": {
    "id": "_783qL5CnHAX"
   },
   "outputs": [],
   "source": [
    "# We know this dataset has some missing data, and we also know that DTs don't\n",
    "# allow missing data. For now, we'll just do simple imputation.\n",
    "#\n",
    "# TODO: consider doing something different/better, like impute them (as\n",
    "# discussed in class)\n",
    "\n",
    "#imp = SimpleImputer()\n",
    "#imp.fit(X)\n",
    "#X = imp.transform(X)\n",
    "\n"
   ]
  },
  {
   "cell_type": "code",
   "execution_count": 31,
   "metadata": {},
   "outputs": [],
   "source": [
    "# age -> mean\n",
    "age_imputer = SimpleImputer(strategy='mean')\n",
    "df['Age'] = age_imputer.fit_transform(df[['Age']])\n",
    "# spending -> binary var\n",
    "# category -> try both 1. fill in 'missing' category 2. use mode\n",
    "# 1. fill in 'missing' category\n",
    "for col in categorical_features:\n",
    "    df[col] = df[col].fillna('Missing')"
   ]
  },
  {
   "cell_type": "code",
   "execution_count": null,
   "metadata": {
    "execution": {
     "iopub.execute_input": "2025-04-29T16:05:58.716309Z",
     "iopub.status.busy": "2025-04-29T16:05:58.715323Z",
     "iopub.status.idle": "2025-04-29T16:05:58.720475Z",
     "shell.execute_reply": "2025-04-29T16:05:58.719502Z",
     "shell.execute_reply.started": "2025-04-29T16:05:58.716276Z"
    },
    "id": "Ufet6ReVnHAX"
   },
   "outputs": [],
   "source": [
    "# TODO: Add more data cleaning and FE, as desired."
   ]
  },
  {
   "cell_type": "code",
   "execution_count": 32,
   "metadata": {},
   "outputs": [],
   "source": [
    "# Numerical feature: Age - Binning Age into range and encoding\n",
    "age_bins = [0, 12, 18, 30, 50, 80]\n",
    "age_labels = ['Child', 'Teen', 'Young Adult', 'Adult', 'Senior']\n",
    "df['AgeGroup'] = pd.cut(df['Age'], bins=age_bins, labels=age_labels, right=False)\n",
    "df['AgeGroup_encoded'] = LabelEncoder().fit_transform(df['AgeGroup'])\n"
   ]
  },
  {
   "cell_type": "code",
   "execution_count": 33,
   "metadata": {},
   "outputs": [],
   "source": [
    "# Numerical feature: spending - change it to binary variables 0 = no spending and 1 =spending\n",
    "spending_cols = ['RoomService', 'FoodCourt', 'ShoppingMall', 'Spa', 'VRDeck', 'TotalSpend']\n",
    "for col in spending_cols:\n",
    "    df[col + '_Spent'] = (df[col] > 0).astype(int)"
   ]
  },
  {
   "cell_type": "code",
   "execution_count": 34,
   "metadata": {},
   "outputs": [],
   "source": [
    "# Categorical feature: Cabin - identify whether travel as solo or in group\n",
    "cabin_counts = df['Cabin'].value_counts()\n",
    "df['Cabin_Count'] = df['Cabin'].map(cabin_counts)\n",
    "df['SoloTraveler'] = (df['Cabin_Count'] == 1).astype(int)"
   ]
  },
  {
   "cell_type": "code",
   "execution_count": 35,
   "metadata": {},
   "outputs": [],
   "source": [
    "# Categorical feature: encode\n",
    "# df['CryoSleep'] = df['CryoSleep'].astype(int) --if fill mode\n",
    "# df['VIP'] = df['VIP'].astype(int)--if fill mode\n",
    "# ['HomePlanet', 'VIP', 'CryoSleep', 'Destination', 'Cabin', 'Name']\n",
    "#le = LabelEncoder()\n",
    "#for col in ['HomePlanet', 'VIP', 'CryoSleep', 'Destination', 'Cabin']:\n",
    "#    df[col] = le.fit_transform(df[col].astype(str))\n",
    "label_encoders = {}  # dictionary to store encoders\n",
    "\n",
    "for col in ['HomePlanet', 'VIP', 'CryoSleep', 'Destination']:\n",
    "    le = LabelEncoder()\n",
    "    df[col] = le.fit_transform(df[col].astype(str))\n",
    "    label_encoders[col] = le"
   ]
  },
  {
   "cell_type": "code",
   "execution_count": 36,
   "metadata": {},
   "outputs": [
    {
     "name": "stdout",
     "output_type": "stream",
     "text": [
      "<class 'pandas.core.frame.DataFrame'>\n",
      "RangeIndex: 8693 entries, 0 to 8692\n",
      "Data columns (total 25 columns):\n",
      " #   Column              Non-Null Count  Dtype   \n",
      "---  ------              --------------  -----   \n",
      " 0   PassengerId         8693 non-null   object  \n",
      " 1   HomePlanet          8693 non-null   int64   \n",
      " 2   CryoSleep           8693 non-null   int64   \n",
      " 3   Cabin               8693 non-null   object  \n",
      " 4   Destination         8693 non-null   int64   \n",
      " 5   Age                 8693 non-null   float64 \n",
      " 6   VIP                 8693 non-null   int64   \n",
      " 7   RoomService         8512 non-null   float64 \n",
      " 8   FoodCourt           8510 non-null   float64 \n",
      " 9   ShoppingMall        8485 non-null   float64 \n",
      " 10  Spa                 8510 non-null   float64 \n",
      " 11  VRDeck              8505 non-null   float64 \n",
      " 12  Name                8693 non-null   object  \n",
      " 13  Transported         8693 non-null   bool    \n",
      " 14  TotalSpend          8693 non-null   float64 \n",
      " 15  AgeGroup            8693 non-null   category\n",
      " 16  AgeGroup_encoded    8693 non-null   int64   \n",
      " 17  RoomService_Spent   8693 non-null   int64   \n",
      " 18  FoodCourt_Spent     8693 non-null   int64   \n",
      " 19  ShoppingMall_Spent  8693 non-null   int64   \n",
      " 20  Spa_Spent           8693 non-null   int64   \n",
      " 21  VRDeck_Spent        8693 non-null   int64   \n",
      " 22  TotalSpend_Spent    8693 non-null   int64   \n",
      " 23  Cabin_Count         8693 non-null   int64   \n",
      " 24  SoloTraveler        8693 non-null   int64   \n",
      "dtypes: bool(1), category(1), float64(7), int64(13), object(3)\n",
      "memory usage: 1.5+ MB\n"
     ]
    }
   ],
   "source": [
    "df.info()"
   ]
  },
  {
   "cell_type": "code",
   "execution_count": 173,
   "metadata": {},
   "outputs": [
    {
     "name": "stdout",
     "output_type": "stream",
     "text": [
      "<class 'pandas.core.frame.DataFrame'>\n",
      "RangeIndex: 8693 entries, 0 to 8692\n",
      "Data columns (total 5 columns):\n",
      " #   Column        Non-Null Count  Dtype  \n",
      "---  ------        --------------  -----  \n",
      " 0   HomePlanet    8693 non-null   int64  \n",
      " 1   CryoSleep     8693 non-null   int64  \n",
      " 2   Age           8693 non-null   float64\n",
      " 3   Transported   8693 non-null   bool   \n",
      " 4   SoloTraveler  8693 non-null   int64  \n",
      "dtypes: bool(1), float64(1), int64(3)\n",
      "memory usage: 280.3 KB\n"
     ]
    }
   ],
   "source": [
    "Drop_features = ['PassengerId',\n",
    "                 #'HomePlanet',\n",
    "                 #'CryoSleep',\n",
    "                 'Cabin',\n",
    "                 'Destination',\n",
    "                 #'Age', \n",
    "                 'VIP',\n",
    "                 'RoomService',\n",
    "                 'FoodCourt',\n",
    "                 'ShoppingMall',\n",
    "                 'Spa',\n",
    "                 'VRDeck',\n",
    "                 'Name', \n",
    "                 'TotalSpend',\n",
    "                 'AgeGroup',\n",
    "                 'AgeGroup_encoded',\n",
    "                 'RoomService_Spent',\n",
    "                 'FoodCourt_Spent',\n",
    "                 'ShoppingMall_Spent',\n",
    "                 'Spa_Spent',\n",
    "                 'VRDeck_Spent',\n",
    "                 'TotalSpend_Spent',\n",
    "                 'Cabin_Count',\n",
    "                 #'SoloTraveler'\n",
    "                ]\n",
    "#0.7512054525137947\n",
    "df_clean = df.drop(Drop_features, axis=1, errors='ignore')\n",
    "df_clean.info()\n",
    "X = df_clean.drop(['Transported'], axis=1)\n",
    "y = df_clean['Transported']"
   ]
  },
  {
   "cell_type": "code",
   "execution_count": 87,
   "metadata": {},
   "outputs": [
    {
     "data": {
      "text/html": [
       "<div>\n",
       "<style scoped>\n",
       "    .dataframe tbody tr th:only-of-type {\n",
       "        vertical-align: middle;\n",
       "    }\n",
       "\n",
       "    .dataframe tbody tr th {\n",
       "        vertical-align: top;\n",
       "    }\n",
       "\n",
       "    .dataframe thead th {\n",
       "        text-align: right;\n",
       "    }\n",
       "</style>\n",
       "<table border=\"1\" class=\"dataframe\">\n",
       "  <thead>\n",
       "    <tr style=\"text-align: right;\">\n",
       "      <th></th>\n",
       "      <th>Age</th>\n",
       "      <th>RoomService</th>\n",
       "      <th>FoodCourt</th>\n",
       "      <th>ShoppingMall</th>\n",
       "      <th>Spa</th>\n",
       "      <th>VRDeck</th>\n",
       "      <th>Transported</th>\n",
       "    </tr>\n",
       "  </thead>\n",
       "  <tbody>\n",
       "    <tr>\n",
       "      <th>0</th>\n",
       "      <td>39.0</td>\n",
       "      <td>0.0</td>\n",
       "      <td>0.0</td>\n",
       "      <td>0.0</td>\n",
       "      <td>0.0</td>\n",
       "      <td>0.0</td>\n",
       "      <td>False</td>\n",
       "    </tr>\n",
       "    <tr>\n",
       "      <th>1</th>\n",
       "      <td>24.0</td>\n",
       "      <td>109.0</td>\n",
       "      <td>9.0</td>\n",
       "      <td>25.0</td>\n",
       "      <td>549.0</td>\n",
       "      <td>44.0</td>\n",
       "      <td>True</td>\n",
       "    </tr>\n",
       "    <tr>\n",
       "      <th>2</th>\n",
       "      <td>58.0</td>\n",
       "      <td>43.0</td>\n",
       "      <td>3576.0</td>\n",
       "      <td>0.0</td>\n",
       "      <td>6715.0</td>\n",
       "      <td>49.0</td>\n",
       "      <td>False</td>\n",
       "    </tr>\n",
       "    <tr>\n",
       "      <th>3</th>\n",
       "      <td>33.0</td>\n",
       "      <td>0.0</td>\n",
       "      <td>1283.0</td>\n",
       "      <td>371.0</td>\n",
       "      <td>3329.0</td>\n",
       "      <td>193.0</td>\n",
       "      <td>False</td>\n",
       "    </tr>\n",
       "    <tr>\n",
       "      <th>4</th>\n",
       "      <td>16.0</td>\n",
       "      <td>303.0</td>\n",
       "      <td>70.0</td>\n",
       "      <td>151.0</td>\n",
       "      <td>565.0</td>\n",
       "      <td>2.0</td>\n",
       "      <td>True</td>\n",
       "    </tr>\n",
       "    <tr>\n",
       "      <th>5</th>\n",
       "      <td>44.0</td>\n",
       "      <td>0.0</td>\n",
       "      <td>483.0</td>\n",
       "      <td>0.0</td>\n",
       "      <td>291.0</td>\n",
       "      <td>0.0</td>\n",
       "      <td>True</td>\n",
       "    </tr>\n",
       "    <tr>\n",
       "      <th>6</th>\n",
       "      <td>26.0</td>\n",
       "      <td>42.0</td>\n",
       "      <td>1539.0</td>\n",
       "      <td>3.0</td>\n",
       "      <td>0.0</td>\n",
       "      <td>0.0</td>\n",
       "      <td>True</td>\n",
       "    </tr>\n",
       "    <tr>\n",
       "      <th>7</th>\n",
       "      <td>28.0</td>\n",
       "      <td>0.0</td>\n",
       "      <td>0.0</td>\n",
       "      <td>0.0</td>\n",
       "      <td>0.0</td>\n",
       "      <td>NaN</td>\n",
       "      <td>True</td>\n",
       "    </tr>\n",
       "    <tr>\n",
       "      <th>8</th>\n",
       "      <td>35.0</td>\n",
       "      <td>0.0</td>\n",
       "      <td>785.0</td>\n",
       "      <td>17.0</td>\n",
       "      <td>216.0</td>\n",
       "      <td>0.0</td>\n",
       "      <td>True</td>\n",
       "    </tr>\n",
       "    <tr>\n",
       "      <th>9</th>\n",
       "      <td>14.0</td>\n",
       "      <td>0.0</td>\n",
       "      <td>0.0</td>\n",
       "      <td>0.0</td>\n",
       "      <td>0.0</td>\n",
       "      <td>0.0</td>\n",
       "      <td>True</td>\n",
       "    </tr>\n",
       "  </tbody>\n",
       "</table>\n",
       "</div>"
      ],
      "text/plain": [
       "    Age  RoomService  FoodCourt  ShoppingMall     Spa  VRDeck  Transported\n",
       "0  39.0          0.0        0.0           0.0     0.0     0.0        False\n",
       "1  24.0        109.0        9.0          25.0   549.0    44.0         True\n",
       "2  58.0         43.0     3576.0           0.0  6715.0    49.0        False\n",
       "3  33.0          0.0     1283.0         371.0  3329.0   193.0        False\n",
       "4  16.0        303.0       70.0         151.0   565.0     2.0         True\n",
       "5  44.0          0.0      483.0           0.0   291.0     0.0         True\n",
       "6  26.0         42.0     1539.0           3.0     0.0     0.0         True\n",
       "7  28.0          0.0        0.0           0.0     0.0     NaN         True\n",
       "8  35.0          0.0      785.0          17.0   216.0     0.0         True\n",
       "9  14.0          0.0        0.0           0.0     0.0     0.0         True"
      ]
     },
     "execution_count": 87,
     "metadata": {},
     "output_type": "execute_result"
    }
   ],
   "source": [
    "df_clean.head(10)"
   ]
  },
  {
   "cell_type": "markdown",
   "metadata": {
    "id": "MQGrMwxMnHAX"
   },
   "source": [
    "## 1.2: Model creation, hyperparameter tuning, and validation"
   ]
  },
  {
   "cell_type": "code",
   "execution_count": 180,
   "metadata": {
    "id": "VVxTUQqmnHAX"
   },
   "outputs": [],
   "source": [
    "# Let's create a very simple DecisionTree.\n",
    "\n",
    "clf = DecisionTreeClassifier(max_depth=3, random_state=0)\n",
    "#clf = RandomForestClassifier(n_estimators=500, random_state=42)\n",
    "\n",
    "# TODO: Can try different algorithms"
   ]
  },
  {
   "cell_type": "code",
   "execution_count": 181,
   "metadata": {
    "id": "Go1hkWrpnHAX"
   },
   "outputs": [],
   "source": [
    "# We use cross_validate to perform K-fold cross validation for us.\n",
    "cv_results = cross_validate(clf, X, y, cv=5, scoring=\"f1_macro\")\n",
    "\n",
    "# TODO: can also add hyperparameter tuning to explore different values of the algorithms\n",
    "# hyperparameters, and see how much those affect results.\n",
    "# See GridSearchCV or RandomizedSearchCV."
   ]
  },
  {
   "cell_type": "code",
   "execution_count": 182,
   "metadata": {
    "id": "G4o7OqSrnHAY"
   },
   "outputs": [
    {
     "data": {
      "text/plain": [
       "{'fit_time': array([0.00617313, 0.0068419 , 0.00631022, 0.00563002, 0.00457716]),\n",
       " 'score_time': array([0.00522375, 0.00457215, 0.00392175, 0.00327706, 0.0026958 ]),\n",
       " 'test_score': array([0.725223  , 0.73466224, 0.71251949, 0.74708589, 0.74629259])}"
      ]
     },
     "metadata": {},
     "output_type": "display_data"
    },
    {
     "name": "stdout",
     "output_type": "stream",
     "text": [
      "The mean CV score is:\n",
      "0.733156641735275\n"
     ]
    }
   ],
   "source": [
    "# Now that cross validation has completed, we can see what it estimates the peformance\n",
    "# of our model to be.\n",
    "\n",
    "display(cv_results)\n",
    "print(\"The mean CV score is:\")\n",
    "print(np.mean(cv_results['test_score']))"
   ]
  },
  {
   "cell_type": "markdown",
   "metadata": {
    "id": "9Q5m6MG1nHAY"
   },
   "source": [
    "\n",
    "Once we are happy with the estimated performance of our model, we can move on to the final step.\n",
    "\n",
    "First, we train our model one last time, using all available training data (unlike CV, which always uses a subset). This final training will give our model the best chance as the highest performance.\n",
    "\n",
    "Then, we must load in the (unlabeled) competition data from the cloud and use our model to generate predictions for each instance in that data. We will then output those predictions to a CSV file and upload it to the competition."
   ]
  },
  {
   "cell_type": "code",
   "execution_count": 100,
   "metadata": {
    "id": "80VOLioynHAY"
   },
   "outputs": [],
   "source": [
    "# Our model's \"final form\"\n",
    "\n",
    "clf = clf.fit(X, y)"
   ]
  },
  {
   "cell_type": "code",
   "execution_count": 101,
   "metadata": {
    "id": "ka2cNkdSnHAY"
   },
   "outputs": [
    {
     "data": {
      "text/html": [
       "<div>\n",
       "<style scoped>\n",
       "    .dataframe tbody tr th:only-of-type {\n",
       "        vertical-align: middle;\n",
       "    }\n",
       "\n",
       "    .dataframe tbody tr th {\n",
       "        vertical-align: top;\n",
       "    }\n",
       "\n",
       "    .dataframe thead th {\n",
       "        text-align: right;\n",
       "    }\n",
       "</style>\n",
       "<table border=\"1\" class=\"dataframe\">\n",
       "  <thead>\n",
       "    <tr style=\"text-align: right;\">\n",
       "      <th></th>\n",
       "      <th>PassengerId</th>\n",
       "      <th>Transported</th>\n",
       "    </tr>\n",
       "  </thead>\n",
       "  <tbody>\n",
       "    <tr>\n",
       "      <th>0</th>\n",
       "      <td>0013_01</td>\n",
       "      <td>True</td>\n",
       "    </tr>\n",
       "    <tr>\n",
       "      <th>1</th>\n",
       "      <td>0018_01</td>\n",
       "      <td>False</td>\n",
       "    </tr>\n",
       "    <tr>\n",
       "      <th>2</th>\n",
       "      <td>0019_01</td>\n",
       "      <td>True</td>\n",
       "    </tr>\n",
       "    <tr>\n",
       "      <th>3</th>\n",
       "      <td>0021_01</td>\n",
       "      <td>True</td>\n",
       "    </tr>\n",
       "    <tr>\n",
       "      <th>4</th>\n",
       "      <td>0023_01</td>\n",
       "      <td>True</td>\n",
       "    </tr>\n",
       "    <tr>\n",
       "      <th>5</th>\n",
       "      <td>0027_01</td>\n",
       "      <td>True</td>\n",
       "    </tr>\n",
       "    <tr>\n",
       "      <th>6</th>\n",
       "      <td>0029_01</td>\n",
       "      <td>True</td>\n",
       "    </tr>\n",
       "    <tr>\n",
       "      <th>7</th>\n",
       "      <td>0032_01</td>\n",
       "      <td>True</td>\n",
       "    </tr>\n",
       "    <tr>\n",
       "      <th>8</th>\n",
       "      <td>0032_02</td>\n",
       "      <td>True</td>\n",
       "    </tr>\n",
       "    <tr>\n",
       "      <th>9</th>\n",
       "      <td>0033_01</td>\n",
       "      <td>True</td>\n",
       "    </tr>\n",
       "  </tbody>\n",
       "</table>\n",
       "</div>"
      ],
      "text/plain": [
       "  PassengerId  Transported\n",
       "0     0013_01         True\n",
       "1     0018_01        False\n",
       "2     0019_01         True\n",
       "3     0021_01         True\n",
       "4     0023_01         True\n",
       "5     0027_01         True\n",
       "6     0029_01         True\n",
       "7     0032_01         True\n",
       "8     0032_02         True\n",
       "9     0033_01         True"
      ]
     },
     "metadata": {},
     "output_type": "display_data"
    }
   ],
   "source": [
    "X_comp = pd.read_csv(\"https://raw.githubusercontent.com/stepthom/869_course/refs/heads/main/data/spaceship_titanic_test.csv\")\n",
    "\n",
    "# Will need to save these IDs for later\n",
    "passengerIDs = X_comp[\"PassengerId\"]\n",
    "\n",
    "# Importantly, we need to perform the same cleaning/transformation steps\n",
    "# on this competition data as you did the training data. Otherwise, we will\n",
    "# get an error and/or unexpected results.\n",
    "\n",
    "X_comp = X_comp.drop(['PassengerId'], axis=1, errors='ignore')\n",
    "X_comp = X_comp.drop(categorical_features, axis=1, errors='ignore')\n",
    "\n",
    "X_comp = imp.transform(X_comp)\n",
    "\n",
    "# Use your model to make predictions\n",
    "pred_comp = clf.predict(X_comp)\n",
    "\n",
    "# Create a simple dataframe with two columns: the passenger ID (just the same as the test data) and our predictions\n",
    "my_submission = pd.DataFrame({\n",
    "    'PassengerId': passengerIDs,\n",
    "    'Transported': pred_comp})\n",
    "\n",
    "# Let's take a peak at the results (as a sanity check)\n",
    "display(my_submission.head(10))\n",
    "\n",
    "# You could use any filename.\n",
    "my_submission.to_csv('submission.csv', index=False)\n",
    "\n",
    "# You can now download the 'submission.csv' from Colab/Kaggle (see menu on the left or right)"
   ]
  },
  {
   "cell_type": "code",
   "execution_count": null,
   "metadata": {
    "id": "DmnsyoSUnHAY"
   },
   "outputs": [],
   "source": []
  }
 ],
 "metadata": {
  "colab": {
   "include_colab_link": true,
   "name": "Template Notebook",
   "provenance": []
  },
  "kaggle": {
   "accelerator": "none",
   "dataSources": [
    {
     "databundleVersionId": 12064814,
     "sourceId": 100411,
     "sourceType": "competition"
    }
   ],
   "dockerImageVersionId": 31012,
   "isGpuEnabled": false,
   "isInternetEnabled": true,
   "language": "python",
   "sourceType": "notebook"
  },
  "kernelspec": {
   "display_name": "Python 3 (ipykernel)",
   "language": "python",
   "name": "python3"
  },
  "language_info": {
   "codemirror_mode": {
    "name": "ipython",
    "version": 3
   },
   "file_extension": ".py",
   "mimetype": "text/x-python",
   "name": "python",
   "nbconvert_exporter": "python",
   "pygments_lexer": "ipython3",
   "version": "3.10.5"
  }
 },
 "nbformat": 4,
 "nbformat_minor": 4
}
