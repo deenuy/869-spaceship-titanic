{
 "metadata": {
  "kernelspec": {
   "language": "python",
   "display_name": "Python 3",
   "name": "python3"
  },
  "language_info": {
   "name": "python",
   "version": "3.11.11",
   "mimetype": "text/x-python",
   "codemirror_mode": {
    "name": "ipython",
    "version": 3
   },
   "pygments_lexer": "ipython3",
   "nbconvert_exporter": "python",
   "file_extension": ".py"
  },
  "kaggle": {
   "accelerator": "none",
   "dataSources": [
    {
     "sourceId": 100411,
     "databundleVersionId": 12064814,
     "sourceType": "competition"
    }
   ],
   "dockerImageVersionId": 31012,
   "isInternetEnabled": true,
   "language": "python",
   "sourceType": "notebook",
   "isGpuEnabled": false
  },
  "colab": {
   "name": "Template Notebook",
   "provenance": [],
   "include_colab_link": true
  }
 },
 "nbformat_minor": 0,
 "nbformat": 4,
 "cells": [
  {
   "cell_type": "markdown",
   "metadata": {
    "id": "view-in-github",
    "colab_type": "text"
   },
   "source": [
    "<a href=\"https://colab.research.google.com/github/stepthom/869_course/blob/main/2026%20869%20Project%20Template.ipynb\" target=\"_parent\"><img src=\"https://colab.research.google.com/assets/colab-badge.svg\" alt=\"Open In Colab\"/></a>"
   ]
  },
  {
   "cell_type": "markdown",
   "source": [
    "# MMAI 869 Project: Example Notebook\n",
    "\n",
    "*Updated May 1, 2025*\n",
    "\n",
    "This notebook serves as a template for the Team Project. Teams can use this notebook as a starting point, and update it successively with new ideas and techniques to improve their model results.\n",
    "\n",
    "Note that is not required to use this template. Teams may also alter this template in any way they see fit."
   ],
   "metadata": {
    "id": "T_JqF4nhnHAK"
   }
  },
  {
   "cell_type": "markdown",
   "source": [
    "# Preliminaries: Inspect and Set up environment\n",
    "\n",
    "No action is required on your part in this section. These cells print out helpful information about the environment, just in case."
   ],
   "metadata": {
    "id": "5h8kN7e4nHAM"
   }
  },
  {
   "cell_type": "code",
   "source": [
    "import pandas as pd\n",
    "import matplotlib.pyplot as plt\n",
    "import numpy as np\n",
    "import seaborn as sns\n",
    "\n",
    "from sklearn.preprocessing import LabelEncoder\n",
    "from sklearn.model_selection import train_test_split, cross_val_score\n",
    "from sklearn.linear_model import LogisticRegression\n",
    "from sklearn.neighbors import KNeighborsClassifier\n",
    "from sklearn.tree import DecisionTreeClassifier\n",
    "from sklearn.ensemble import RandomForestClassifier,ExtraTreesClassifier\n",
    "from lightgbm import LGBMClassifier\n",
    "from sklearn.metrics import accuracy_score, classification_report"
   ],
   "metadata": {
    "_uuid": "8f2839f25d086af736a60e9eeb907d3b93b6e0e5",
    "_cell_guid": "b1076dfc-b9ad-4769-8c92-a6c4dae69d19",
    "trusted": true,
    "execution": {
     "iopub.status.busy": "2025-04-29T15:33:14.024124Z",
     "iopub.execute_input": "2025-04-29T15:33:14.024385Z",
     "iopub.status.idle": "2025-04-29T15:33:23.963717Z",
     "shell.execute_reply.started": "2025-04-29T15:33:14.024359Z",
     "shell.execute_reply": "2025-04-29T15:33:23.962752Z"
    },
    "id": "iFGZKq7dnHAN",
    "ExecuteTime": {
     "end_time": "2025-05-17T05:34:03.129828Z",
     "start_time": "2025-05-17T05:34:02.377166Z"
    }
   },
   "outputs": [],
   "execution_count": 1
  },
  {
   "cell_type": "code",
   "source": [
    "import datetime\n",
    "print(datetime.datetime.now())"
   ],
   "metadata": {
    "trusted": true,
    "execution": {
     "iopub.status.busy": "2025-04-29T15:35:25.734381Z",
     "iopub.execute_input": "2025-04-29T15:35:25.734713Z",
     "iopub.status.idle": "2025-04-29T15:35:25.740012Z",
     "shell.execute_reply.started": "2025-04-29T15:35:25.734678Z",
     "shell.execute_reply": "2025-04-29T15:35:25.739Z"
    },
    "id": "A-bJSWOTnHAO",
    "ExecuteTime": {
     "end_time": "2025-05-17T05:36:16.435048Z",
     "start_time": "2025-05-17T05:36:16.422920Z"
    }
   },
   "outputs": [
    {
     "name": "stdout",
     "output_type": "stream",
     "text": [
      "2025-05-17 01:36:16.431322\n"
     ]
    }
   ],
   "execution_count": 2
  },
  {
   "cell_type": "code",
   "source": [
    "!python --version"
   ],
   "metadata": {
    "trusted": true,
    "execution": {
     "iopub.status.busy": "2025-04-29T15:34:57.648204Z",
     "iopub.execute_input": "2025-04-29T15:34:57.64854Z",
     "iopub.status.idle": "2025-04-29T15:34:57.787301Z",
     "shell.execute_reply.started": "2025-04-29T15:34:57.648514Z",
     "shell.execute_reply": "2025-04-29T15:34:57.786221Z"
    },
    "id": "M8P3CPDmnHAP",
    "ExecuteTime": {
     "end_time": "2025-05-17T05:36:19.910077Z",
     "start_time": "2025-05-17T05:36:19.759127Z"
    }
   },
   "outputs": [
    {
     "name": "stdout",
     "output_type": "stream",
     "text": [
      "Python 3.10.16\r\n"
     ]
    }
   ],
   "execution_count": 3
  },
  {
   "cell_type": "code",
   "source": [
    "# TODO: if you need to install any package, do so here. For example:\n",
    "# !pip install unidecode"
   ],
   "metadata": {
    "trusted": true,
    "id": "uGc85VOCnHAP",
    "ExecuteTime": {
     "end_time": "2025-05-17T05:36:32.937158Z",
     "start_time": "2025-05-17T05:36:31.636012Z"
    }
   },
   "outputs": [
    {
     "name": "stdout",
     "output_type": "stream",
     "text": [
      "Collecting unidecode\r\n",
      "  Downloading Unidecode-1.4.0-py3-none-any.whl.metadata (13 kB)\r\n",
      "Downloading Unidecode-1.4.0-py3-none-any.whl (235 kB)\r\n",
      "Installing collected packages: unidecode\r\n",
      "Successfully installed unidecode-1.4.0\r\n"
     ]
    }
   ],
   "execution_count": 4
  },
  {
   "cell_type": "markdown",
   "source": [
    "# 0: Data Loading and Inspection"
   ],
   "metadata": {
    "id": "c5EsSXF-nHAQ"
   }
  },
  {
   "cell_type": "code",
   "source": [
    "df = pd.read_csv(\"https://raw.githubusercontent.com/stepthom/869_course/refs/heads/main/data/spaceship_titanic_train.csv\")"
   ],
   "metadata": {
    "trusted": true,
    "execution": {
     "iopub.status.busy": "2025-04-29T15:41:49.690048Z",
     "iopub.execute_input": "2025-04-29T15:41:49.690355Z",
     "iopub.status.idle": "2025-04-29T15:41:50.067303Z",
     "shell.execute_reply.started": "2025-04-29T15:41:49.690336Z",
     "shell.execute_reply": "2025-04-29T15:41:50.066321Z"
    },
    "id": "t9bKTR3fnHAQ",
    "ExecuteTime": {
     "end_time": "2025-05-17T05:36:40.382226Z",
     "start_time": "2025-05-17T05:36:40.123096Z"
    }
   },
   "outputs": [],
   "execution_count": 5
  },
  {
   "cell_type": "code",
   "source": [
    "df.info()"
   ],
   "metadata": {
    "trusted": true,
    "execution": {
     "iopub.status.busy": "2025-04-29T15:42:07.322018Z",
     "iopub.execute_input": "2025-04-29T15:42:07.322312Z",
     "iopub.status.idle": "2025-04-29T15:42:07.360667Z",
     "shell.execute_reply.started": "2025-04-29T15:42:07.322285Z",
     "shell.execute_reply": "2025-04-29T15:42:07.359733Z"
    },
    "id": "_4JAlUN-nHAR",
    "ExecuteTime": {
     "end_time": "2025-05-17T05:36:41.128137Z",
     "start_time": "2025-05-17T05:36:41.115467Z"
    }
   },
   "outputs": [
    {
     "name": "stdout",
     "output_type": "stream",
     "text": [
      "<class 'pandas.core.frame.DataFrame'>\n",
      "RangeIndex: 8693 entries, 0 to 8692\n",
      "Data columns (total 14 columns):\n",
      " #   Column        Non-Null Count  Dtype  \n",
      "---  ------        --------------  -----  \n",
      " 0   PassengerId   8693 non-null   object \n",
      " 1   HomePlanet    8492 non-null   object \n",
      " 2   CryoSleep     8476 non-null   object \n",
      " 3   Cabin         8494 non-null   object \n",
      " 4   Destination   8511 non-null   object \n",
      " 5   Age           8514 non-null   float64\n",
      " 6   VIP           8490 non-null   object \n",
      " 7   RoomService   8512 non-null   float64\n",
      " 8   FoodCourt     8510 non-null   float64\n",
      " 9   ShoppingMall  8485 non-null   float64\n",
      " 10  Spa           8510 non-null   float64\n",
      " 11  VRDeck        8505 non-null   float64\n",
      " 12  Name          8493 non-null   object \n",
      " 13  Transported   8693 non-null   bool   \n",
      "dtypes: bool(1), float64(6), object(7)\n",
      "memory usage: 891.5+ KB\n"
     ]
    }
   ],
   "execution_count": 6
  },
  {
   "cell_type": "code",
   "source": [
    "# Let's print some descriptive statistics for all the numeric features.\n",
    "\n",
    "df.describe().T"
   ],
   "metadata": {
    "trusted": true,
    "execution": {
     "iopub.status.busy": "2025-04-29T15:42:47.74599Z",
     "iopub.execute_input": "2025-04-29T15:42:47.746294Z",
     "iopub.status.idle": "2025-04-29T15:42:47.778172Z",
     "shell.execute_reply.started": "2025-04-29T15:42:47.746272Z",
     "shell.execute_reply": "2025-04-29T15:42:47.777304Z"
    },
    "id": "qH-m99m1nHAS",
    "ExecuteTime": {
     "end_time": "2025-05-17T05:36:48.958496Z",
     "start_time": "2025-05-17T05:36:48.944306Z"
    }
   },
   "outputs": [
    {
     "data": {
      "text/plain": [
       "               count        mean          std  min   25%   50%   75%      max\n",
       "Age           8514.0   28.827930    14.489021  0.0  19.0  27.0  38.0     79.0\n",
       "RoomService   8512.0  224.687617   666.717663  0.0   0.0   0.0  47.0  14327.0\n",
       "FoodCourt     8510.0  458.077203  1611.489240  0.0   0.0   0.0  76.0  29813.0\n",
       "ShoppingMall  8485.0  173.729169   604.696458  0.0   0.0   0.0  27.0  23492.0\n",
       "Spa           8510.0  311.138778  1136.705535  0.0   0.0   0.0  59.0  22408.0\n",
       "VRDeck        8505.0  304.854791  1145.717189  0.0   0.0   0.0  46.0  24133.0"
      ],
      "text/html": [
       "<div>\n",
       "<style scoped>\n",
       "    .dataframe tbody tr th:only-of-type {\n",
       "        vertical-align: middle;\n",
       "    }\n",
       "\n",
       "    .dataframe tbody tr th {\n",
       "        vertical-align: top;\n",
       "    }\n",
       "\n",
       "    .dataframe thead th {\n",
       "        text-align: right;\n",
       "    }\n",
       "</style>\n",
       "<table border=\"1\" class=\"dataframe\">\n",
       "  <thead>\n",
       "    <tr style=\"text-align: right;\">\n",
       "      <th></th>\n",
       "      <th>count</th>\n",
       "      <th>mean</th>\n",
       "      <th>std</th>\n",
       "      <th>min</th>\n",
       "      <th>25%</th>\n",
       "      <th>50%</th>\n",
       "      <th>75%</th>\n",
       "      <th>max</th>\n",
       "    </tr>\n",
       "  </thead>\n",
       "  <tbody>\n",
       "    <tr>\n",
       "      <th>Age</th>\n",
       "      <td>8514.0</td>\n",
       "      <td>28.827930</td>\n",
       "      <td>14.489021</td>\n",
       "      <td>0.0</td>\n",
       "      <td>19.0</td>\n",
       "      <td>27.0</td>\n",
       "      <td>38.0</td>\n",
       "      <td>79.0</td>\n",
       "    </tr>\n",
       "    <tr>\n",
       "      <th>RoomService</th>\n",
       "      <td>8512.0</td>\n",
       "      <td>224.687617</td>\n",
       "      <td>666.717663</td>\n",
       "      <td>0.0</td>\n",
       "      <td>0.0</td>\n",
       "      <td>0.0</td>\n",
       "      <td>47.0</td>\n",
       "      <td>14327.0</td>\n",
       "    </tr>\n",
       "    <tr>\n",
       "      <th>FoodCourt</th>\n",
       "      <td>8510.0</td>\n",
       "      <td>458.077203</td>\n",
       "      <td>1611.489240</td>\n",
       "      <td>0.0</td>\n",
       "      <td>0.0</td>\n",
       "      <td>0.0</td>\n",
       "      <td>76.0</td>\n",
       "      <td>29813.0</td>\n",
       "    </tr>\n",
       "    <tr>\n",
       "      <th>ShoppingMall</th>\n",
       "      <td>8485.0</td>\n",
       "      <td>173.729169</td>\n",
       "      <td>604.696458</td>\n",
       "      <td>0.0</td>\n",
       "      <td>0.0</td>\n",
       "      <td>0.0</td>\n",
       "      <td>27.0</td>\n",
       "      <td>23492.0</td>\n",
       "    </tr>\n",
       "    <tr>\n",
       "      <th>Spa</th>\n",
       "      <td>8510.0</td>\n",
       "      <td>311.138778</td>\n",
       "      <td>1136.705535</td>\n",
       "      <td>0.0</td>\n",
       "      <td>0.0</td>\n",
       "      <td>0.0</td>\n",
       "      <td>59.0</td>\n",
       "      <td>22408.0</td>\n",
       "    </tr>\n",
       "    <tr>\n",
       "      <th>VRDeck</th>\n",
       "      <td>8505.0</td>\n",
       "      <td>304.854791</td>\n",
       "      <td>1145.717189</td>\n",
       "      <td>0.0</td>\n",
       "      <td>0.0</td>\n",
       "      <td>0.0</td>\n",
       "      <td>46.0</td>\n",
       "      <td>24133.0</td>\n",
       "    </tr>\n",
       "  </tbody>\n",
       "</table>\n",
       "</div>"
      ]
     },
     "execution_count": 7,
     "metadata": {},
     "output_type": "execute_result"
    }
   ],
   "execution_count": 7
  },
  {
   "cell_type": "code",
   "source": [
    "# Let's print some descriptive statistics for all the numeric features.\n",
    "\n",
    "df.describe().T# What is the number of unique values in all the categorical features? And what is\n",
    "# the value with the highest frequency?\n",
    "\n",
    "df.describe(include=object).T"
   ],
   "metadata": {
    "trusted": true,
    "execution": {
     "iopub.status.busy": "2025-04-29T15:42:25.759652Z",
     "iopub.execute_input": "2025-04-29T15:42:25.759973Z",
     "iopub.status.idle": "2025-04-29T15:42:25.811106Z",
     "shell.execute_reply.started": "2025-04-29T15:42:25.759948Z",
     "shell.execute_reply": "2025-04-29T15:42:25.810238Z"
    },
    "id": "y6t3WYxWnHAT",
    "ExecuteTime": {
     "end_time": "2025-05-17T05:37:12.641760Z",
     "start_time": "2025-05-17T05:37:12.610570Z"
    }
   },
   "outputs": [
    {
     "data": {
      "text/plain": [
       "            count unique             top  freq\n",
       "PassengerId  8693   8693         0001_01     1\n",
       "HomePlanet   8492      3           Earth  4602\n",
       "CryoSleep    8476      2           False  5439\n",
       "Cabin        8494   6560         G/734/S     8\n",
       "Destination  8511      3     TRAPPIST-1e  5915\n",
       "VIP          8490      2           False  8291\n",
       "Name         8493   8473  Gollux Reedall     2"
      ],
      "text/html": [
       "<div>\n",
       "<style scoped>\n",
       "    .dataframe tbody tr th:only-of-type {\n",
       "        vertical-align: middle;\n",
       "    }\n",
       "\n",
       "    .dataframe tbody tr th {\n",
       "        vertical-align: top;\n",
       "    }\n",
       "\n",
       "    .dataframe thead th {\n",
       "        text-align: right;\n",
       "    }\n",
       "</style>\n",
       "<table border=\"1\" class=\"dataframe\">\n",
       "  <thead>\n",
       "    <tr style=\"text-align: right;\">\n",
       "      <th></th>\n",
       "      <th>count</th>\n",
       "      <th>unique</th>\n",
       "      <th>top</th>\n",
       "      <th>freq</th>\n",
       "    </tr>\n",
       "  </thead>\n",
       "  <tbody>\n",
       "    <tr>\n",
       "      <th>PassengerId</th>\n",
       "      <td>8693</td>\n",
       "      <td>8693</td>\n",
       "      <td>0001_01</td>\n",
       "      <td>1</td>\n",
       "    </tr>\n",
       "    <tr>\n",
       "      <th>HomePlanet</th>\n",
       "      <td>8492</td>\n",
       "      <td>3</td>\n",
       "      <td>Earth</td>\n",
       "      <td>4602</td>\n",
       "    </tr>\n",
       "    <tr>\n",
       "      <th>CryoSleep</th>\n",
       "      <td>8476</td>\n",
       "      <td>2</td>\n",
       "      <td>False</td>\n",
       "      <td>5439</td>\n",
       "    </tr>\n",
       "    <tr>\n",
       "      <th>Cabin</th>\n",
       "      <td>8494</td>\n",
       "      <td>6560</td>\n",
       "      <td>G/734/S</td>\n",
       "      <td>8</td>\n",
       "    </tr>\n",
       "    <tr>\n",
       "      <th>Destination</th>\n",
       "      <td>8511</td>\n",
       "      <td>3</td>\n",
       "      <td>TRAPPIST-1e</td>\n",
       "      <td>5915</td>\n",
       "    </tr>\n",
       "    <tr>\n",
       "      <th>VIP</th>\n",
       "      <td>8490</td>\n",
       "      <td>2</td>\n",
       "      <td>False</td>\n",
       "      <td>8291</td>\n",
       "    </tr>\n",
       "    <tr>\n",
       "      <th>Name</th>\n",
       "      <td>8493</td>\n",
       "      <td>8473</td>\n",
       "      <td>Gollux Reedall</td>\n",
       "      <td>2</td>\n",
       "    </tr>\n",
       "  </tbody>\n",
       "</table>\n",
       "</div>"
      ]
     },
     "execution_count": 8,
     "metadata": {},
     "output_type": "execute_result"
    }
   ],
   "execution_count": 8
  },
  {
   "cell_type": "code",
   "source": [
    "# How much missing data is in each feature?\n",
    "\n",
    "df.isna().sum()"
   ],
   "metadata": {
    "trusted": true,
    "execution": {
     "iopub.status.busy": "2025-04-29T15:46:20.628514Z",
     "iopub.execute_input": "2025-04-29T15:46:20.62892Z",
     "iopub.status.idle": "2025-04-29T15:46:20.644894Z",
     "shell.execute_reply.started": "2025-04-29T15:46:20.628893Z",
     "shell.execute_reply": "2025-04-29T15:46:20.644036Z"
    },
    "id": "Ds-GenRSnHAT",
    "ExecuteTime": {
     "end_time": "2025-05-17T05:39:08.026846Z",
     "start_time": "2025-05-17T05:39:08.007801Z"
    }
   },
   "outputs": [
    {
     "data": {
      "text/plain": [
       "PassengerId       0\n",
       "HomePlanet      201\n",
       "CryoSleep       217\n",
       "Cabin           199\n",
       "Destination     182\n",
       "Age             179\n",
       "VIP             203\n",
       "RoomService     181\n",
       "FoodCourt       183\n",
       "ShoppingMall    208\n",
       "Spa             183\n",
       "VRDeck          188\n",
       "Name            200\n",
       "Transported       0\n",
       "dtype: int64"
      ]
     },
     "execution_count": 9,
     "metadata": {},
     "output_type": "execute_result"
    }
   ],
   "execution_count": 9
  },
  {
   "cell_type": "code",
   "source": [
    "# For convienience, let's save the names of all numeric features to a list,\n",
    "# and the names of all categorical features to another list.\n",
    "\n",
    "numeric_features = ['Age', 'RoomService', 'FoodCourt', 'ShoppingMall', 'Spa', 'VRDeck']\n",
    "\n",
    "categorical_features = ['HomePlanet', 'VIP', 'CryoSleep', 'Destination', 'Cabin', 'Name']"
   ],
   "metadata": {
    "trusted": true,
    "execution": {
     "iopub.status.busy": "2025-04-29T15:53:25.881747Z",
     "iopub.execute_input": "2025-04-29T15:53:25.882479Z",
     "iopub.status.idle": "2025-04-29T15:53:25.886768Z",
     "shell.execute_reply.started": "2025-04-29T15:53:25.88243Z",
     "shell.execute_reply": "2025-04-29T15:53:25.885955Z"
    },
    "id": "x6osteVLnHAU",
    "ExecuteTime": {
     "end_time": "2025-05-17T05:39:24.442690Z",
     "start_time": "2025-05-17T05:39:24.438243Z"
    }
   },
   "outputs": [],
   "execution_count": 10
  },
  {
   "cell_type": "code",
   "source": [
    "# TODO: Can add more EDA here, as desired"
   ],
   "metadata": {
    "trusted": true,
    "execution": {
     "iopub.status.busy": "2025-04-29T15:49:37.060413Z",
     "iopub.execute_input": "2025-04-29T15:49:37.060767Z",
     "iopub.status.idle": "2025-04-29T15:49:37.064736Z",
     "shell.execute_reply.started": "2025-04-29T15:49:37.060743Z",
     "shell.execute_reply": "2025-04-29T15:49:37.063821Z"
    },
    "id": "sff9tw3NnHAU"
   },
   "outputs": [],
   "execution_count": null
  },
  {
   "cell_type": "markdown",
   "source": [
    "# 1: Pipeline 1: Simple Feature Engineering and then Decision Tree"
   ],
   "metadata": {
    "id": "C6W9v7svnHAV"
   }
  },
  {
   "cell_type": "code",
   "source": [
    "from sklearn.tree import DecisionTreeClassifier\n",
    "from sklearn.impute import SimpleImputer\n",
    "from sklearn.model_selection import cross_validate\n",
    "from sklearn.model_selection import train_test_split"
   ],
   "metadata": {
    "trusted": true,
    "execution": {
     "iopub.status.busy": "2025-04-29T15:52:01.468652Z",
     "iopub.execute_input": "2025-04-29T15:52:01.468978Z",
     "iopub.status.idle": "2025-04-29T15:52:01.487398Z",
     "shell.execute_reply.started": "2025-04-29T15:52:01.468945Z",
     "shell.execute_reply": "2025-04-29T15:52:01.486418Z"
    },
    "id": "_-SSovOHnHAV",
    "ExecuteTime": {
     "end_time": "2025-05-17T05:39:37.677421Z",
     "start_time": "2025-05-17T05:39:37.672258Z"
    }
   },
   "outputs": [],
   "execution_count": 11
  },
  {
   "cell_type": "code",
   "source": [
    "# Scikit-learn needs us to put the features in one dataframe, and the label in another.\n",
    "# It's tradition to name these variables X and y, but it doesn't really matter.\n",
    "\n",
    "X = df.drop(['PassengerId', 'Transported'], axis=1)\n",
    "y = df['Transported']"
   ],
   "metadata": {
    "trusted": true,
    "execution": {
     "iopub.status.busy": "2025-04-29T16:05:54.011414Z",
     "iopub.execute_input": "2025-04-29T16:05:54.012163Z",
     "iopub.status.idle": "2025-04-29T16:05:54.018336Z",
     "shell.execute_reply.started": "2025-04-29T16:05:54.012134Z",
     "shell.execute_reply": "2025-04-29T16:05:54.017386Z"
    },
    "id": "NrgbYV13nHAV",
    "ExecuteTime": {
     "end_time": "2025-05-17T05:52:11.746680Z",
     "start_time": "2025-05-17T05:52:11.738241Z"
    }
   },
   "outputs": [],
   "execution_count": 39
  },
  {
   "metadata": {
    "ExecuteTime": {
     "end_time": "2025-05-17T05:52:12.298229Z",
     "start_time": "2025-05-17T05:52:12.287587Z"
    }
   },
   "cell_type": "code",
   "source": "X.head(10)",
   "outputs": [
    {
     "data": {
      "text/plain": [
       "  HomePlanet CryoSleep  Cabin    Destination   Age    VIP  RoomService  \\\n",
       "0     Europa     False  B/0/P    TRAPPIST-1e  39.0  False          0.0   \n",
       "1      Earth     False  F/0/S    TRAPPIST-1e  24.0  False        109.0   \n",
       "2     Europa     False  A/0/S    TRAPPIST-1e  58.0   True         43.0   \n",
       "3     Europa     False  A/0/S    TRAPPIST-1e  33.0  False          0.0   \n",
       "4      Earth     False  F/1/S    TRAPPIST-1e  16.0  False        303.0   \n",
       "5      Earth     False  F/0/P  PSO J318.5-22  44.0  False          0.0   \n",
       "6      Earth     False  F/2/S    TRAPPIST-1e  26.0  False         42.0   \n",
       "7      Earth      True  G/0/S    TRAPPIST-1e  28.0  False          0.0   \n",
       "8      Earth     False  F/3/S    TRAPPIST-1e  35.0  False          0.0   \n",
       "9     Europa      True  B/1/P    55 Cancri e  14.0  False          0.0   \n",
       "\n",
       "   FoodCourt  ShoppingMall     Spa  VRDeck                Name  \n",
       "0        0.0           0.0     0.0     0.0     Maham Ofracculy  \n",
       "1        9.0          25.0   549.0    44.0        Juanna Vines  \n",
       "2     3576.0           0.0  6715.0    49.0       Altark Susent  \n",
       "3     1283.0         371.0  3329.0   193.0        Solam Susent  \n",
       "4       70.0         151.0   565.0     2.0   Willy Santantines  \n",
       "5      483.0           0.0   291.0     0.0   Sandie Hinetthews  \n",
       "6     1539.0           3.0     0.0     0.0  Billex Jacostaffey  \n",
       "7        0.0           0.0     0.0     NaN  Candra Jacostaffey  \n",
       "8      785.0          17.0   216.0     0.0       Andona Beston  \n",
       "9        0.0           0.0     0.0     0.0      Erraiam Flatic  "
      ],
      "text/html": [
       "<div>\n",
       "<style scoped>\n",
       "    .dataframe tbody tr th:only-of-type {\n",
       "        vertical-align: middle;\n",
       "    }\n",
       "\n",
       "    .dataframe tbody tr th {\n",
       "        vertical-align: top;\n",
       "    }\n",
       "\n",
       "    .dataframe thead th {\n",
       "        text-align: right;\n",
       "    }\n",
       "</style>\n",
       "<table border=\"1\" class=\"dataframe\">\n",
       "  <thead>\n",
       "    <tr style=\"text-align: right;\">\n",
       "      <th></th>\n",
       "      <th>HomePlanet</th>\n",
       "      <th>CryoSleep</th>\n",
       "      <th>Cabin</th>\n",
       "      <th>Destination</th>\n",
       "      <th>Age</th>\n",
       "      <th>VIP</th>\n",
       "      <th>RoomService</th>\n",
       "      <th>FoodCourt</th>\n",
       "      <th>ShoppingMall</th>\n",
       "      <th>Spa</th>\n",
       "      <th>VRDeck</th>\n",
       "      <th>Name</th>\n",
       "    </tr>\n",
       "  </thead>\n",
       "  <tbody>\n",
       "    <tr>\n",
       "      <th>0</th>\n",
       "      <td>Europa</td>\n",
       "      <td>False</td>\n",
       "      <td>B/0/P</td>\n",
       "      <td>TRAPPIST-1e</td>\n",
       "      <td>39.0</td>\n",
       "      <td>False</td>\n",
       "      <td>0.0</td>\n",
       "      <td>0.0</td>\n",
       "      <td>0.0</td>\n",
       "      <td>0.0</td>\n",
       "      <td>0.0</td>\n",
       "      <td>Maham Ofracculy</td>\n",
       "    </tr>\n",
       "    <tr>\n",
       "      <th>1</th>\n",
       "      <td>Earth</td>\n",
       "      <td>False</td>\n",
       "      <td>F/0/S</td>\n",
       "      <td>TRAPPIST-1e</td>\n",
       "      <td>24.0</td>\n",
       "      <td>False</td>\n",
       "      <td>109.0</td>\n",
       "      <td>9.0</td>\n",
       "      <td>25.0</td>\n",
       "      <td>549.0</td>\n",
       "      <td>44.0</td>\n",
       "      <td>Juanna Vines</td>\n",
       "    </tr>\n",
       "    <tr>\n",
       "      <th>2</th>\n",
       "      <td>Europa</td>\n",
       "      <td>False</td>\n",
       "      <td>A/0/S</td>\n",
       "      <td>TRAPPIST-1e</td>\n",
       "      <td>58.0</td>\n",
       "      <td>True</td>\n",
       "      <td>43.0</td>\n",
       "      <td>3576.0</td>\n",
       "      <td>0.0</td>\n",
       "      <td>6715.0</td>\n",
       "      <td>49.0</td>\n",
       "      <td>Altark Susent</td>\n",
       "    </tr>\n",
       "    <tr>\n",
       "      <th>3</th>\n",
       "      <td>Europa</td>\n",
       "      <td>False</td>\n",
       "      <td>A/0/S</td>\n",
       "      <td>TRAPPIST-1e</td>\n",
       "      <td>33.0</td>\n",
       "      <td>False</td>\n",
       "      <td>0.0</td>\n",
       "      <td>1283.0</td>\n",
       "      <td>371.0</td>\n",
       "      <td>3329.0</td>\n",
       "      <td>193.0</td>\n",
       "      <td>Solam Susent</td>\n",
       "    </tr>\n",
       "    <tr>\n",
       "      <th>4</th>\n",
       "      <td>Earth</td>\n",
       "      <td>False</td>\n",
       "      <td>F/1/S</td>\n",
       "      <td>TRAPPIST-1e</td>\n",
       "      <td>16.0</td>\n",
       "      <td>False</td>\n",
       "      <td>303.0</td>\n",
       "      <td>70.0</td>\n",
       "      <td>151.0</td>\n",
       "      <td>565.0</td>\n",
       "      <td>2.0</td>\n",
       "      <td>Willy Santantines</td>\n",
       "    </tr>\n",
       "    <tr>\n",
       "      <th>5</th>\n",
       "      <td>Earth</td>\n",
       "      <td>False</td>\n",
       "      <td>F/0/P</td>\n",
       "      <td>PSO J318.5-22</td>\n",
       "      <td>44.0</td>\n",
       "      <td>False</td>\n",
       "      <td>0.0</td>\n",
       "      <td>483.0</td>\n",
       "      <td>0.0</td>\n",
       "      <td>291.0</td>\n",
       "      <td>0.0</td>\n",
       "      <td>Sandie Hinetthews</td>\n",
       "    </tr>\n",
       "    <tr>\n",
       "      <th>6</th>\n",
       "      <td>Earth</td>\n",
       "      <td>False</td>\n",
       "      <td>F/2/S</td>\n",
       "      <td>TRAPPIST-1e</td>\n",
       "      <td>26.0</td>\n",
       "      <td>False</td>\n",
       "      <td>42.0</td>\n",
       "      <td>1539.0</td>\n",
       "      <td>3.0</td>\n",
       "      <td>0.0</td>\n",
       "      <td>0.0</td>\n",
       "      <td>Billex Jacostaffey</td>\n",
       "    </tr>\n",
       "    <tr>\n",
       "      <th>7</th>\n",
       "      <td>Earth</td>\n",
       "      <td>True</td>\n",
       "      <td>G/0/S</td>\n",
       "      <td>TRAPPIST-1e</td>\n",
       "      <td>28.0</td>\n",
       "      <td>False</td>\n",
       "      <td>0.0</td>\n",
       "      <td>0.0</td>\n",
       "      <td>0.0</td>\n",
       "      <td>0.0</td>\n",
       "      <td>NaN</td>\n",
       "      <td>Candra Jacostaffey</td>\n",
       "    </tr>\n",
       "    <tr>\n",
       "      <th>8</th>\n",
       "      <td>Earth</td>\n",
       "      <td>False</td>\n",
       "      <td>F/3/S</td>\n",
       "      <td>TRAPPIST-1e</td>\n",
       "      <td>35.0</td>\n",
       "      <td>False</td>\n",
       "      <td>0.0</td>\n",
       "      <td>785.0</td>\n",
       "      <td>17.0</td>\n",
       "      <td>216.0</td>\n",
       "      <td>0.0</td>\n",
       "      <td>Andona Beston</td>\n",
       "    </tr>\n",
       "    <tr>\n",
       "      <th>9</th>\n",
       "      <td>Europa</td>\n",
       "      <td>True</td>\n",
       "      <td>B/1/P</td>\n",
       "      <td>55 Cancri e</td>\n",
       "      <td>14.0</td>\n",
       "      <td>False</td>\n",
       "      <td>0.0</td>\n",
       "      <td>0.0</td>\n",
       "      <td>0.0</td>\n",
       "      <td>0.0</td>\n",
       "      <td>0.0</td>\n",
       "      <td>Erraiam Flatic</td>\n",
       "    </tr>\n",
       "  </tbody>\n",
       "</table>\n",
       "</div>"
      ]
     },
     "execution_count": 40,
     "metadata": {},
     "output_type": "execute_result"
    }
   ],
   "execution_count": 40
  },
  {
   "cell_type": "markdown",
   "source": [
    "## 1.1: Cleaning and FE"
   ],
   "metadata": {
    "id": "pF8cgozgnHAV"
   }
  },
  {
   "cell_type": "code",
   "source": [
    "# We know this dataset has categorical features, and we also know that DTs don't\n",
    "# allow categorical features. For now, we'll just remove (i.e., drop) these\n",
    "# features.\n",
    "#\n",
    "# TODO: do something better, like encode them (as discussed in the course)\n",
    "\n",
    "X = X.drop(categorical_features, axis=1, errors='ignore')\n",
    "columns=X.columns"
   ],
   "metadata": {
    "trusted": true,
    "execution": {
     "iopub.status.busy": "2025-04-29T16:05:56.32999Z",
     "iopub.execute_input": "2025-04-29T16:05:56.330259Z",
     "iopub.status.idle": "2025-04-29T16:05:56.335726Z",
     "shell.execute_reply.started": "2025-04-29T16:05:56.330241Z",
     "shell.execute_reply": "2025-04-29T16:05:56.334793Z"
    },
    "id": "Sl4aB8vMnHAW",
    "ExecuteTime": {
     "end_time": "2025-05-17T05:52:14.324812Z",
     "start_time": "2025-05-17T05:52:14.320599Z"
    }
   },
   "outputs": [],
   "execution_count": 41
  },
  {
   "metadata": {
    "ExecuteTime": {
     "end_time": "2025-05-17T05:52:17.214330Z",
     "start_time": "2025-05-17T05:52:17.206043Z"
    }
   },
   "cell_type": "code",
   "source": "X.head(10)",
   "outputs": [
    {
     "data": {
      "text/plain": [
       "    Age  RoomService  FoodCourt  ShoppingMall     Spa  VRDeck\n",
       "0  39.0          0.0        0.0           0.0     0.0     0.0\n",
       "1  24.0        109.0        9.0          25.0   549.0    44.0\n",
       "2  58.0         43.0     3576.0           0.0  6715.0    49.0\n",
       "3  33.0          0.0     1283.0         371.0  3329.0   193.0\n",
       "4  16.0        303.0       70.0         151.0   565.0     2.0\n",
       "5  44.0          0.0      483.0           0.0   291.0     0.0\n",
       "6  26.0         42.0     1539.0           3.0     0.0     0.0\n",
       "7  28.0          0.0        0.0           0.0     0.0     NaN\n",
       "8  35.0          0.0      785.0          17.0   216.0     0.0\n",
       "9  14.0          0.0        0.0           0.0     0.0     0.0"
      ],
      "text/html": [
       "<div>\n",
       "<style scoped>\n",
       "    .dataframe tbody tr th:only-of-type {\n",
       "        vertical-align: middle;\n",
       "    }\n",
       "\n",
       "    .dataframe tbody tr th {\n",
       "        vertical-align: top;\n",
       "    }\n",
       "\n",
       "    .dataframe thead th {\n",
       "        text-align: right;\n",
       "    }\n",
       "</style>\n",
       "<table border=\"1\" class=\"dataframe\">\n",
       "  <thead>\n",
       "    <tr style=\"text-align: right;\">\n",
       "      <th></th>\n",
       "      <th>Age</th>\n",
       "      <th>RoomService</th>\n",
       "      <th>FoodCourt</th>\n",
       "      <th>ShoppingMall</th>\n",
       "      <th>Spa</th>\n",
       "      <th>VRDeck</th>\n",
       "    </tr>\n",
       "  </thead>\n",
       "  <tbody>\n",
       "    <tr>\n",
       "      <th>0</th>\n",
       "      <td>39.0</td>\n",
       "      <td>0.0</td>\n",
       "      <td>0.0</td>\n",
       "      <td>0.0</td>\n",
       "      <td>0.0</td>\n",
       "      <td>0.0</td>\n",
       "    </tr>\n",
       "    <tr>\n",
       "      <th>1</th>\n",
       "      <td>24.0</td>\n",
       "      <td>109.0</td>\n",
       "      <td>9.0</td>\n",
       "      <td>25.0</td>\n",
       "      <td>549.0</td>\n",
       "      <td>44.0</td>\n",
       "    </tr>\n",
       "    <tr>\n",
       "      <th>2</th>\n",
       "      <td>58.0</td>\n",
       "      <td>43.0</td>\n",
       "      <td>3576.0</td>\n",
       "      <td>0.0</td>\n",
       "      <td>6715.0</td>\n",
       "      <td>49.0</td>\n",
       "    </tr>\n",
       "    <tr>\n",
       "      <th>3</th>\n",
       "      <td>33.0</td>\n",
       "      <td>0.0</td>\n",
       "      <td>1283.0</td>\n",
       "      <td>371.0</td>\n",
       "      <td>3329.0</td>\n",
       "      <td>193.0</td>\n",
       "    </tr>\n",
       "    <tr>\n",
       "      <th>4</th>\n",
       "      <td>16.0</td>\n",
       "      <td>303.0</td>\n",
       "      <td>70.0</td>\n",
       "      <td>151.0</td>\n",
       "      <td>565.0</td>\n",
       "      <td>2.0</td>\n",
       "    </tr>\n",
       "    <tr>\n",
       "      <th>5</th>\n",
       "      <td>44.0</td>\n",
       "      <td>0.0</td>\n",
       "      <td>483.0</td>\n",
       "      <td>0.0</td>\n",
       "      <td>291.0</td>\n",
       "      <td>0.0</td>\n",
       "    </tr>\n",
       "    <tr>\n",
       "      <th>6</th>\n",
       "      <td>26.0</td>\n",
       "      <td>42.0</td>\n",
       "      <td>1539.0</td>\n",
       "      <td>3.0</td>\n",
       "      <td>0.0</td>\n",
       "      <td>0.0</td>\n",
       "    </tr>\n",
       "    <tr>\n",
       "      <th>7</th>\n",
       "      <td>28.0</td>\n",
       "      <td>0.0</td>\n",
       "      <td>0.0</td>\n",
       "      <td>0.0</td>\n",
       "      <td>0.0</td>\n",
       "      <td>NaN</td>\n",
       "    </tr>\n",
       "    <tr>\n",
       "      <th>8</th>\n",
       "      <td>35.0</td>\n",
       "      <td>0.0</td>\n",
       "      <td>785.0</td>\n",
       "      <td>17.0</td>\n",
       "      <td>216.0</td>\n",
       "      <td>0.0</td>\n",
       "    </tr>\n",
       "    <tr>\n",
       "      <th>9</th>\n",
       "      <td>14.0</td>\n",
       "      <td>0.0</td>\n",
       "      <td>0.0</td>\n",
       "      <td>0.0</td>\n",
       "      <td>0.0</td>\n",
       "      <td>0.0</td>\n",
       "    </tr>\n",
       "  </tbody>\n",
       "</table>\n",
       "</div>"
      ]
     },
     "execution_count": 42,
     "metadata": {},
     "output_type": "execute_result"
    }
   ],
   "execution_count": 42
  },
  {
   "cell_type": "code",
   "source": [
    "# We know this dataset has some missing data, and we also know that DTs don't\n",
    "# allow missing data. For now, we'll just do simple imputation.\n",
    "#\n",
    "# TODO: consider doing something different/better, like impute them (as discussed in class)\n",
    "\n",
    "# By default, it replaces NaN values with:\n",
    "# 1) Missing numerical values with the mean of the column.\n",
    "# 2) Missing categorical values with the most frequent value (if configured).\n",
    "\n",
    "imp = SimpleImputer()\n",
    "imp.fit(X)\n",
    "X = imp.transform(X)\n",
    "print(type(X))\n",
    "print(X.shape)"
   ],
   "metadata": {
    "trusted": true,
    "execution": {
     "iopub.status.busy": "2025-04-29T16:05:56.795275Z",
     "iopub.execute_input": "2025-04-29T16:05:56.795625Z",
     "iopub.status.idle": "2025-04-29T16:05:56.806417Z",
     "shell.execute_reply.started": "2025-04-29T16:05:56.795602Z",
     "shell.execute_reply": "2025-04-29T16:05:56.805528Z"
    },
    "id": "_783qL5CnHAX",
    "ExecuteTime": {
     "end_time": "2025-05-17T05:52:22.237188Z",
     "start_time": "2025-05-17T05:52:22.229745Z"
    }
   },
   "outputs": [
    {
     "name": "stdout",
     "output_type": "stream",
     "text": [
      "<class 'numpy.ndarray'>\n",
      "(8693, 6)\n"
     ]
    }
   ],
   "execution_count": 43
  },
  {
   "cell_type": "code",
   "source": [
    "# TODO: Add more data cleaning and FE, as desired."
   ],
   "metadata": {
    "trusted": true,
    "execution": {
     "iopub.status.busy": "2025-04-29T16:05:58.715323Z",
     "iopub.execute_input": "2025-04-29T16:05:58.716309Z",
     "iopub.status.idle": "2025-04-29T16:05:58.720475Z",
     "shell.execute_reply.started": "2025-04-29T16:05:58.716276Z",
     "shell.execute_reply": "2025-04-29T16:05:58.719502Z"
    },
    "id": "Ufet6ReVnHAX",
    "ExecuteTime": {
     "end_time": "2025-05-17T05:49:38.475501Z",
     "start_time": "2025-05-17T05:49:38.472469Z"
    }
   },
   "outputs": [],
   "execution_count": 36
  },
  {
   "metadata": {
    "ExecuteTime": {
     "end_time": "2025-05-17T05:52:31.912480Z",
     "start_time": "2025-05-17T05:52:31.889354Z"
    }
   },
   "cell_type": "code",
   "source": [
    "# Assuming X_original is your original DataFrame\n",
    "X_imputed = pd.DataFrame(imp.transform(X), columns=columns)\n",
    "X_imputed.head(10)"
   ],
   "outputs": [
    {
     "name": "stderr",
     "output_type": "stream",
     "text": [
      "/Users/deenuy/Documents/Workspace/Pet-projects/python_repos/queensu-workspace/869_course/venv/lib/python3.10/site-packages/sklearn/utils/validation.py:2739: UserWarning: X does not have valid feature names, but SimpleImputer was fitted with feature names\n",
      "  warnings.warn(\n"
     ]
    },
    {
     "data": {
      "text/plain": [
       "    Age  RoomService  FoodCourt  ShoppingMall     Spa      VRDeck\n",
       "0  39.0          0.0        0.0           0.0     0.0    0.000000\n",
       "1  24.0        109.0        9.0          25.0   549.0   44.000000\n",
       "2  58.0         43.0     3576.0           0.0  6715.0   49.000000\n",
       "3  33.0          0.0     1283.0         371.0  3329.0  193.000000\n",
       "4  16.0        303.0       70.0         151.0   565.0    2.000000\n",
       "5  44.0          0.0      483.0           0.0   291.0    0.000000\n",
       "6  26.0         42.0     1539.0           3.0     0.0    0.000000\n",
       "7  28.0          0.0        0.0           0.0     0.0  304.854791\n",
       "8  35.0          0.0      785.0          17.0   216.0    0.000000\n",
       "9  14.0          0.0        0.0           0.0     0.0    0.000000"
      ],
      "text/html": [
       "<div>\n",
       "<style scoped>\n",
       "    .dataframe tbody tr th:only-of-type {\n",
       "        vertical-align: middle;\n",
       "    }\n",
       "\n",
       "    .dataframe tbody tr th {\n",
       "        vertical-align: top;\n",
       "    }\n",
       "\n",
       "    .dataframe thead th {\n",
       "        text-align: right;\n",
       "    }\n",
       "</style>\n",
       "<table border=\"1\" class=\"dataframe\">\n",
       "  <thead>\n",
       "    <tr style=\"text-align: right;\">\n",
       "      <th></th>\n",
       "      <th>Age</th>\n",
       "      <th>RoomService</th>\n",
       "      <th>FoodCourt</th>\n",
       "      <th>ShoppingMall</th>\n",
       "      <th>Spa</th>\n",
       "      <th>VRDeck</th>\n",
       "    </tr>\n",
       "  </thead>\n",
       "  <tbody>\n",
       "    <tr>\n",
       "      <th>0</th>\n",
       "      <td>39.0</td>\n",
       "      <td>0.0</td>\n",
       "      <td>0.0</td>\n",
       "      <td>0.0</td>\n",
       "      <td>0.0</td>\n",
       "      <td>0.000000</td>\n",
       "    </tr>\n",
       "    <tr>\n",
       "      <th>1</th>\n",
       "      <td>24.0</td>\n",
       "      <td>109.0</td>\n",
       "      <td>9.0</td>\n",
       "      <td>25.0</td>\n",
       "      <td>549.0</td>\n",
       "      <td>44.000000</td>\n",
       "    </tr>\n",
       "    <tr>\n",
       "      <th>2</th>\n",
       "      <td>58.0</td>\n",
       "      <td>43.0</td>\n",
       "      <td>3576.0</td>\n",
       "      <td>0.0</td>\n",
       "      <td>6715.0</td>\n",
       "      <td>49.000000</td>\n",
       "    </tr>\n",
       "    <tr>\n",
       "      <th>3</th>\n",
       "      <td>33.0</td>\n",
       "      <td>0.0</td>\n",
       "      <td>1283.0</td>\n",
       "      <td>371.0</td>\n",
       "      <td>3329.0</td>\n",
       "      <td>193.000000</td>\n",
       "    </tr>\n",
       "    <tr>\n",
       "      <th>4</th>\n",
       "      <td>16.0</td>\n",
       "      <td>303.0</td>\n",
       "      <td>70.0</td>\n",
       "      <td>151.0</td>\n",
       "      <td>565.0</td>\n",
       "      <td>2.000000</td>\n",
       "    </tr>\n",
       "    <tr>\n",
       "      <th>5</th>\n",
       "      <td>44.0</td>\n",
       "      <td>0.0</td>\n",
       "      <td>483.0</td>\n",
       "      <td>0.0</td>\n",
       "      <td>291.0</td>\n",
       "      <td>0.000000</td>\n",
       "    </tr>\n",
       "    <tr>\n",
       "      <th>6</th>\n",
       "      <td>26.0</td>\n",
       "      <td>42.0</td>\n",
       "      <td>1539.0</td>\n",
       "      <td>3.0</td>\n",
       "      <td>0.0</td>\n",
       "      <td>0.000000</td>\n",
       "    </tr>\n",
       "    <tr>\n",
       "      <th>7</th>\n",
       "      <td>28.0</td>\n",
       "      <td>0.0</td>\n",
       "      <td>0.0</td>\n",
       "      <td>0.0</td>\n",
       "      <td>0.0</td>\n",
       "      <td>304.854791</td>\n",
       "    </tr>\n",
       "    <tr>\n",
       "      <th>8</th>\n",
       "      <td>35.0</td>\n",
       "      <td>0.0</td>\n",
       "      <td>785.0</td>\n",
       "      <td>17.0</td>\n",
       "      <td>216.0</td>\n",
       "      <td>0.000000</td>\n",
       "    </tr>\n",
       "    <tr>\n",
       "      <th>9</th>\n",
       "      <td>14.0</td>\n",
       "      <td>0.0</td>\n",
       "      <td>0.0</td>\n",
       "      <td>0.0</td>\n",
       "      <td>0.0</td>\n",
       "      <td>0.000000</td>\n",
       "    </tr>\n",
       "  </tbody>\n",
       "</table>\n",
       "</div>"
      ]
     },
     "execution_count": 44,
     "metadata": {},
     "output_type": "execute_result"
    }
   ],
   "execution_count": 44
  },
  {
   "cell_type": "markdown",
   "source": [
    "## 1.2: Model creation, hyperparameter tuning, and validation"
   ],
   "metadata": {
    "id": "MQGrMwxMnHAX"
   }
  },
  {
   "cell_type": "code",
   "source": [
    "# Let's create a very simple DecisionTree.\n",
    "\n",
    "clf = DecisionTreeClassifier(max_depth=3, random_state=0)\n",
    "\n",
    "# TODO: Can try different algorithms"
   ],
   "metadata": {
    "trusted": true,
    "execution": {
     "iopub.status.busy": "2025-04-29T16:05:59.465096Z",
     "iopub.execute_input": "2025-04-29T16:05:59.465932Z",
     "iopub.status.idle": "2025-04-29T16:05:59.469894Z",
     "shell.execute_reply.started": "2025-04-29T16:05:59.465903Z",
     "shell.execute_reply": "2025-04-29T16:05:59.468893Z"
    },
    "id": "VVxTUQqmnHAX",
    "ExecuteTime": {
     "end_time": "2025-05-17T05:53:56.669785Z",
     "start_time": "2025-05-17T05:53:56.661735Z"
    }
   },
   "outputs": [],
   "execution_count": 45
  },
  {
   "cell_type": "code",
   "source": [
    "# We use cross_validate to perform K-fold cross validation for us.\n",
    "cv_results = cross_validate(clf, X, y, cv=5, scoring=\"f1_macro\")\n",
    "\n",
    "# TODO: can also add hyperparameter tuning to explore different values of the algorithms\n",
    "# hyperparameters, and see how much those affect results.\n",
    "# See GridSearchCV or RandomizedSearchCV."
   ],
   "metadata": {
    "trusted": true,
    "execution": {
     "iopub.status.busy": "2025-04-29T16:06:00.687042Z",
     "iopub.execute_input": "2025-04-29T16:06:00.687315Z",
     "iopub.status.idle": "2025-04-29T16:06:00.750127Z",
     "shell.execute_reply.started": "2025-04-29T16:06:00.687297Z",
     "shell.execute_reply": "2025-04-29T16:06:00.749201Z"
    },
    "id": "Go1hkWrpnHAX",
    "ExecuteTime": {
     "end_time": "2025-05-17T05:54:01.109174Z",
     "start_time": "2025-05-17T05:54:01.058012Z"
    }
   },
   "outputs": [],
   "execution_count": 46
  },
  {
   "cell_type": "code",
   "source": [
    "# Now that cross validation has completed, we can see what it estimates the peformance\n",
    "# of our model to be.\n",
    "\n",
    "display(cv_results)\n",
    "print(\"The mean CV score is:\")\n",
    "print(np.mean(cv_results['test_score']))"
   ],
   "metadata": {
    "trusted": true,
    "execution": {
     "iopub.status.busy": "2025-04-29T16:06:01.312298Z",
     "iopub.execute_input": "2025-04-29T16:06:01.313153Z",
     "iopub.status.idle": "2025-04-29T16:06:01.320161Z",
     "shell.execute_reply.started": "2025-04-29T16:06:01.313125Z",
     "shell.execute_reply": "2025-04-29T16:06:01.319388Z"
    },
    "id": "G4o7OqSrnHAY",
    "ExecuteTime": {
     "end_time": "2025-05-17T05:54:29.645402Z",
     "start_time": "2025-05-17T05:54:29.637501Z"
    }
   },
   "outputs": [
    {
     "data": {
      "text/plain": [
       "{'fit_time': array([0.012743  , 0.00432515, 0.00456405, 0.00435901, 0.00418997]),\n",
       " 'score_time': array([0.00255704, 0.00152588, 0.00239301, 0.00127101, 0.00129294]),\n",
       " 'test_score': array([0.73454557, 0.73117609, 0.74415285, 0.75591792, 0.75604013])}"
      ]
     },
     "metadata": {},
     "output_type": "display_data"
    },
    {
     "name": "stdout",
     "output_type": "stream",
     "text": [
      "The mean CV score is:\n",
      "0.7443665140204688\n"
     ]
    }
   ],
   "execution_count": 47
  },
  {
   "cell_type": "markdown",
   "source": [
    "\n",
    "Once we are happy with the estimated performance of our model, we can move on to the final step.\n",
    "\n",
    "First, we train our model one last time, using all available training data (unlike CV, which always uses a subset). This final training will give our model the best chance as the highest performance.\n",
    "\n",
    "Then, we must load in the (unlabeled) competition data from the cloud and use our model to generate predictions for each instance in that data. We will then output those predictions to a CSV file and upload it to the competition."
   ],
   "metadata": {
    "id": "9Q5m6MG1nHAY"
   }
  },
  {
   "cell_type": "code",
   "source": [
    "# Our model's \"final form\"\n",
    "\n",
    "clf = clf.fit(X, y)"
   ],
   "metadata": {
    "trusted": true,
    "execution": {
     "iopub.status.busy": "2025-04-29T16:06:06.162252Z",
     "iopub.execute_input": "2025-04-29T16:06:06.162595Z",
     "iopub.status.idle": "2025-04-29T16:06:06.17633Z",
     "shell.execute_reply.started": "2025-04-29T16:06:06.162572Z",
     "shell.execute_reply": "2025-04-29T16:06:06.175405Z"
    },
    "id": "80VOLioynHAY",
    "ExecuteTime": {
     "end_time": "2025-05-17T05:54:40.528930Z",
     "start_time": "2025-05-17T05:54:40.518347Z"
    }
   },
   "outputs": [],
   "execution_count": 48
  },
  {
   "cell_type": "code",
   "source": [
    "X_comp = pd.read_csv(\"https://raw.githubusercontent.com/stepthom/869_course/refs/heads/main/data/spaceship_titanic_test.csv\")\n",
    "\n",
    "# Will need to save these IDs for later\n",
    "passengerIDs = X_comp[\"PassengerId\"]\n",
    "\n",
    "# Importantly, we need to perform the same cleaning/transformation steps\n",
    "# on this competition data as you did the training data. Otherwise, we will\n",
    "# get an error and/or unexpected results.\n",
    "\n",
    "X_comp = X_comp.drop(['PassengerId'], axis=1, errors='ignore')\n",
    "X_comp = X_comp.drop(categorical_features, axis=1, errors='ignore')\n",
    "\n",
    "X_comp = imp.transform(X_comp)\n",
    "\n",
    "# Use your model to make predictions\n",
    "pred_comp = clf.predict(X_comp)\n",
    "\n",
    "# Create a simple dataframe with two columns: the passenger ID (just the same as the test data) and our predictions\n",
    "my_submission = pd.DataFrame({\n",
    "    'PassengerId': passengerIDs,\n",
    "    'Transported': pred_comp})\n",
    "\n",
    "# Let's take a peak at the results (as a sanity check)\n",
    "display(my_submission.head(10))\n",
    "\n",
    "# You could use any filename.\n",
    "my_submission.to_csv('submission.csv', index=False)\n",
    "\n",
    "# You can now download the 'submission.csv' from Colab/Kaggle (see menu on the left or right)"
   ],
   "metadata": {
    "trusted": true,
    "execution": {
     "iopub.status.busy": "2025-04-29T16:08:03.471203Z",
     "iopub.execute_input": "2025-04-29T16:08:03.472079Z",
     "iopub.status.idle": "2025-04-29T16:08:03.537723Z",
     "shell.execute_reply.started": "2025-04-29T16:08:03.472053Z",
     "shell.execute_reply": "2025-04-29T16:08:03.536891Z"
    },
    "id": "ka2cNkdSnHAY",
    "ExecuteTime": {
     "end_time": "2025-05-17T05:54:48.924513Z",
     "start_time": "2025-05-17T05:54:48.633874Z"
    }
   },
   "outputs": [
    {
     "data": {
      "text/plain": [
       "  PassengerId  Transported\n",
       "0     0013_01         True\n",
       "1     0018_01        False\n",
       "2     0019_01         True\n",
       "3     0021_01         True\n",
       "4     0023_01        False\n",
       "5     0027_01        False\n",
       "6     0029_01         True\n",
       "7     0032_01         True\n",
       "8     0032_02         True\n",
       "9     0033_01         True"
      ],
      "text/html": [
       "<div>\n",
       "<style scoped>\n",
       "    .dataframe tbody tr th:only-of-type {\n",
       "        vertical-align: middle;\n",
       "    }\n",
       "\n",
       "    .dataframe tbody tr th {\n",
       "        vertical-align: top;\n",
       "    }\n",
       "\n",
       "    .dataframe thead th {\n",
       "        text-align: right;\n",
       "    }\n",
       "</style>\n",
       "<table border=\"1\" class=\"dataframe\">\n",
       "  <thead>\n",
       "    <tr style=\"text-align: right;\">\n",
       "      <th></th>\n",
       "      <th>PassengerId</th>\n",
       "      <th>Transported</th>\n",
       "    </tr>\n",
       "  </thead>\n",
       "  <tbody>\n",
       "    <tr>\n",
       "      <th>0</th>\n",
       "      <td>0013_01</td>\n",
       "      <td>True</td>\n",
       "    </tr>\n",
       "    <tr>\n",
       "      <th>1</th>\n",
       "      <td>0018_01</td>\n",
       "      <td>False</td>\n",
       "    </tr>\n",
       "    <tr>\n",
       "      <th>2</th>\n",
       "      <td>0019_01</td>\n",
       "      <td>True</td>\n",
       "    </tr>\n",
       "    <tr>\n",
       "      <th>3</th>\n",
       "      <td>0021_01</td>\n",
       "      <td>True</td>\n",
       "    </tr>\n",
       "    <tr>\n",
       "      <th>4</th>\n",
       "      <td>0023_01</td>\n",
       "      <td>False</td>\n",
       "    </tr>\n",
       "    <tr>\n",
       "      <th>5</th>\n",
       "      <td>0027_01</td>\n",
       "      <td>False</td>\n",
       "    </tr>\n",
       "    <tr>\n",
       "      <th>6</th>\n",
       "      <td>0029_01</td>\n",
       "      <td>True</td>\n",
       "    </tr>\n",
       "    <tr>\n",
       "      <th>7</th>\n",
       "      <td>0032_01</td>\n",
       "      <td>True</td>\n",
       "    </tr>\n",
       "    <tr>\n",
       "      <th>8</th>\n",
       "      <td>0032_02</td>\n",
       "      <td>True</td>\n",
       "    </tr>\n",
       "    <tr>\n",
       "      <th>9</th>\n",
       "      <td>0033_01</td>\n",
       "      <td>True</td>\n",
       "    </tr>\n",
       "  </tbody>\n",
       "</table>\n",
       "</div>"
      ]
     },
     "metadata": {},
     "output_type": "display_data"
    }
   ],
   "execution_count": 49
  },
  {
   "cell_type": "code",
   "source": [],
   "metadata": {
    "trusted": true,
    "id": "DmnsyoSUnHAY"
   },
   "outputs": [],
   "execution_count": null
  }
 ]
}
