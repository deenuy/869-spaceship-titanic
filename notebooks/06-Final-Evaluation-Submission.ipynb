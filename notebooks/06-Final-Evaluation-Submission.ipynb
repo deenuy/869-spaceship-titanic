{
 "cells": [
  {
   "metadata": {
    "ExecuteTime": {
     "end_time": "2025-06-04T08:06:07.409216Z",
     "start_time": "2025-06-04T08:06:07.403543Z"
    }
   },
   "cell_type": "code",
   "source": [
    "from datetime import datetime\n",
    "import pandas as pd\n",
    "import numpy as np\n",
    "from sklearn.metrics import accuracy_score, classification_report, confusion_matrix, roc_auc_score, f1_score, precision_score, recall_score\n",
    "from sklearn.impute import SimpleImputer\n",
    "import joblib"
   ],
   "id": "2658fec3d18f1655",
   "outputs": [],
   "execution_count": 41
  },
  {
   "metadata": {
    "ExecuteTime": {
     "end_time": "2025-06-04T08:06:07.438310Z",
     "start_time": "2025-06-04T08:06:07.435071Z"
    }
   },
   "cell_type": "code",
   "source": [
    "%%time\n",
    "# 📊 BLOCK: MODEL EVALUATION AND COMPETITION SUBMISSION\n",
    "print(\"📊 Starting Model Evaluation and Competition Submission\")\n",
    "print(\"=\" * 60)\n",
    "\n",
    "# =============================================================================\n",
    "# STEP 1: MODEL SELECTION AND LOADING\n",
    "# =============================================================================\n",
    "print(\"\\n🔍 Available Models:\")\n",
    "print(\"-\" * 30)\n",
    "\n",
    "# Available model files (based on your uploads)\n",
    "available_models = [\n",
    "    {'file': 'models/best_xgb_model.pkl', 'name': 'XGBoost (Grid Search)'},\n",
    "    # {'file': 'models/best_xgb_random_model.pkl', 'name': 'XGBoost (Random Search)'},\n",
    "    # {'file': 'models/best_xgb_tpe_model.pkl', 'name': 'XGBoost (TPE)'}\n",
    "]\n",
    "\n",
    "# Auto-select first available model (or manually change index)\n",
    "selected_model = available_models[0]  # Change to [1] or [2] for other models\n",
    "print(f\"✅ Selected Model: {selected_model['name']}\")\n",
    "print(f\"📁 Model File: {selected_model['file']}\")"
   ],
   "id": "ae05eb1b660d95f5",
   "outputs": [
    {
     "name": "stdout",
     "output_type": "stream",
     "text": [
      "📊 Starting Model Evaluation and Competition Submission\n",
      "============================================================\n",
      "\n",
      "🔍 Available Models:\n",
      "------------------------------\n",
      "✅ Selected Model: XGBoost (Grid Search)\n",
      "📁 Model File: models/best_xgb_model.pkl\n",
      "CPU times: user 117 μs, sys: 33 μs, total: 150 μs\n",
      "Wall time: 140 μs\n"
     ]
    }
   ],
   "execution_count": 42
  },
  {
   "metadata": {
    "ExecuteTime": {
     "end_time": "2025-06-04T08:06:07.487292Z",
     "start_time": "2025-06-04T08:06:07.455313Z"
    }
   },
   "cell_type": "code",
   "source": [
    "%%time\n",
    "# =============================================================================\n",
    "# STEP 2: LOAD COMPETITION TEST DATA\n",
    "# =============================================================================\n",
    "print(f\"\\n📥 Loading Competition Test Data\")\n",
    "print(\"-\" * 40)\n",
    "\n",
    "# Load competition test data\n",
    "X_comp = pd.read_csv('../data/processed/test_dataset_spaceship_titanic_processed.csv')\n",
    "print(f\"✅ Competition test data loaded successfully\")\n",
    "print(f\"📊 Competition samples: {len(X_comp):,}\")\n",
    "\n",
    "# Save PassengerIds for submission\n",
    "passengerIDs = X_comp[\"PassengerId\"]\n",
    "print(f\"✅ Passenger IDs extracted: {len(passengerIDs):,}\")\n",
    "\n",
    "# =============================================================================\n",
    "# STEP 3: PREPROCESS COMPETITION DATA\n",
    "# =============================================================================\n",
    "print(f\"\\n🔄 Preprocessing Competition Data\")\n",
    "print(\"-\" * 40)\n",
    "\n",
    "# Drop PassengerId column\n",
    "X_comp = X_comp.drop(['PassengerId'], axis=1, errors='ignore')"
   ],
   "id": "8384ee1b825e2f1",
   "outputs": [
    {
     "name": "stdout",
     "output_type": "stream",
     "text": [
      "\n",
      "📥 Loading Competition Test Data\n",
      "----------------------------------------\n",
      "✅ Competition test data loaded successfully\n",
      "📊 Competition samples: 4,277\n",
      "✅ Passenger IDs extracted: 4,277\n",
      "\n",
      "🔄 Preprocessing Competition Data\n",
      "----------------------------------------\n",
      "CPU times: user 16.5 ms, sys: 7.68 ms, total: 24.2 ms\n",
      "Wall time: 29.7 ms\n"
     ]
    }
   ],
   "execution_count": 43
  },
  {
   "metadata": {
    "ExecuteTime": {
     "end_time": "2025-06-04T08:06:07.517319Z",
     "start_time": "2025-06-04T08:06:07.500320Z"
    }
   },
   "cell_type": "code",
   "source": [
    "# =============================================================================\n",
    "# STEP 3: LOAD MODEL AND GENERATE PREDICTIONS\n",
    "# =============================================================================\n",
    "print(f\"\\n🔄 Loading Model and Generating Predictions\")\n",
    "print(\"-\" * 40)\n",
    "\n",
    "start_time = datetime.now()\n",
    "\n",
    "# Load the model\n",
    "best_model = joblib.load(selected_model['file'])\n",
    "print(f\"✅ Model loaded successfully\")\n",
    "\n",
    "# Generate predictions on competition test set\n",
    "pred_comp = best_model.predict(X_comp)\n",
    "pred_proba_comp = best_model.predict_proba(X_comp)\n",
    "\n",
    "prediction_time = (datetime.now() - start_time).total_seconds()\n",
    "\n",
    "print(f\"✅ Predictions generated successfully\")\n",
    "print(f\"📊 Competition samples: {len(X_comp):,}\")\n",
    "print(f\"⏱️  Prediction time: {prediction_time:.3f} seconds\")\n"
   ],
   "id": "c085ddbb7272b771",
   "outputs": [
    {
     "name": "stdout",
     "output_type": "stream",
     "text": [
      "\n",
      "🔄 Loading Model and Generating Predictions\n",
      "----------------------------------------\n",
      "✅ Model loaded successfully\n",
      "✅ Predictions generated successfully\n",
      "📊 Competition samples: 4,277\n",
      "⏱️  Prediction time: 0.015 seconds\n"
     ]
    }
   ],
   "execution_count": 44
  },
  {
   "metadata": {
    "ExecuteTime": {
     "end_time": "2025-06-04T08:06:07.537949Z",
     "start_time": "2025-06-04T08:06:07.535110Z"
    }
   },
   "cell_type": "code",
   "source": [
    "# =============================================================================\n",
    "# STEP 4: ANALYZE PREDICTIONS\n",
    "# =============================================================================\n",
    "print(f\"\\n📊 Prediction Analysis:\")\n",
    "print(\"-\" * 40)\n",
    "print(f\"🎯 Model: {selected_model['name']}\")\n",
    "print(f\"📊 Total predictions: {len(pred_comp):,}\")\n",
    "print(f\"📊 Predicted class 0 (Not Transported): {(pred_comp == 0).sum():,} ({(pred_comp == 0).mean():.1%})\")\n",
    "print(f\"📊 Predicted class 1 (Transported): {(pred_comp == 1).sum():,} ({(pred_comp == 1).mean():.1%})\")\n",
    "print(f\"📊 Mean prediction probability: {pred_proba_comp[:, 1].mean():.3f}\")\n",
    "print(f\"📊 Prediction confidence (max prob): {pred_proba_comp.max(axis=1).mean():.3f}\")"
   ],
   "id": "45d235b462b0908d",
   "outputs": [
    {
     "name": "stdout",
     "output_type": "stream",
     "text": [
      "\n",
      "📊 Prediction Analysis:\n",
      "----------------------------------------\n",
      "🎯 Model: XGBoost (Grid Search)\n",
      "📊 Total predictions: 4,277\n",
      "📊 Predicted class 0 (Not Transported): 2,007 (46.9%)\n",
      "📊 Predicted class 1 (Transported): 2,270 (53.1%)\n",
      "📊 Mean prediction probability: 0.502\n",
      "📊 Prediction confidence (max prob): 0.657\n"
     ]
    }
   ],
   "execution_count": 45
  },
  {
   "metadata": {
    "ExecuteTime": {
     "end_time": "2025-06-04T08:06:07.561987Z",
     "start_time": "2025-06-04T08:06:07.554950Z"
    }
   },
   "cell_type": "code",
   "source": [
    "# =============================================================================\n",
    "# STEP 5: CREATE SUBMISSION FILE\n",
    "# =============================================================================\n",
    "print(f\"\\n💾 Creating Submission File\")\n",
    "print(\"-\" * 30)\n",
    "\n",
    "# Create submission dataframe\n",
    "my_submission = pd.DataFrame({\n",
    "    'PassengerId': passengerIDs,\n",
    "    'Transported': pred_comp.astype(bool)  # Convert to boolean as required by competition\n",
    "})\n",
    "\n",
    "# Display first 10 rows as sanity check\n",
    "print(f\"📋 Submission Preview:\")\n",
    "print(my_submission.head(10))\n",
    "\n",
    "# Save submission file\n",
    "submission_filename = f'submission_{selected_model[\"name\"].lower().replace(\" \", \"_\").replace(\"(\", \"\").replace(\")\", \"\")}.csv'\n",
    "my_submission.to_csv(submission_filename, index=False)\n",
    "print(f\"✅ Submission saved to: {submission_filename}\")"
   ],
   "id": "f11c45844cd7f520",
   "outputs": [
    {
     "name": "stdout",
     "output_type": "stream",
     "text": [
      "\n",
      "💾 Creating Submission File\n",
      "------------------------------\n",
      "📋 Submission Preview:\n",
      "  PassengerId  Transported\n",
      "0     0013_01         True\n",
      "1     0018_01         True\n",
      "2     0019_01         True\n",
      "3     0021_01         True\n",
      "4     0023_01         True\n",
      "5     0027_01         True\n",
      "6     0029_01         True\n",
      "7     0032_01         True\n",
      "8     0032_02         True\n",
      "9     0033_01         True\n",
      "✅ Submission saved to: submission_xgboost_grid_search.csv\n"
     ]
    }
   ],
   "execution_count": 46
  },
  {
   "metadata": {
    "ExecuteTime": {
     "end_time": "2025-06-04T08:06:07.589794Z",
     "start_time": "2025-06-04T08:06:07.580316Z"
    }
   },
   "cell_type": "code",
   "source": [
    "# =============================================================================\n",
    "# STEP 6: SAVE DETAILED PREDICTIONS (OPTIONAL)\n",
    "# =============================================================================\n",
    "print(f\"\\n💾 Saving Detailed Predictions\")\n",
    "print(\"-\" * 35)\n",
    "\n",
    "# Create detailed predictions dataframe\n",
    "detailed_predictions = pd.DataFrame({\n",
    "    'PassengerId': passengerIDs,\n",
    "    'Predicted_Label': pred_comp,\n",
    "    'Prediction_Probability_Not_Transported': pred_proba_comp[:, 0],\n",
    "    'Prediction_Probability_Transported': pred_proba_comp[:, 1],\n",
    "    'Prediction_Confidence': pred_proba_comp.max(axis=1)\n",
    "})\n",
    "\n",
    "detailed_filename = f'detailed_predictions_{selected_model[\"name\"].lower().replace(\" \", \"_\").replace(\"(\", \"\").replace(\")\", \"\")}.csv'\n",
    "detailed_predictions.to_csv(detailed_filename, index=False)\n",
    "print(f\"✅ Detailed predictions saved to: {detailed_filename}\")"
   ],
   "id": "421507dfe27ffdf7",
   "outputs": [
    {
     "name": "stdout",
     "output_type": "stream",
     "text": [
      "\n",
      "💾 Saving Detailed Predictions\n",
      "-----------------------------------\n",
      "✅ Detailed predictions saved to: detailed_predictions_xgboost_grid_search.csv\n"
     ]
    }
   ],
   "execution_count": 47
  },
  {
   "metadata": {
    "ExecuteTime": {
     "end_time": "2025-06-04T08:06:07.610804Z",
     "start_time": "2025-06-04T08:06:07.608495Z"
    }
   },
   "cell_type": "code",
   "source": [
    "# =============================================================================\n",
    "# STEP 7: NOTE ABOUT TEST SET\n",
    "# =============================================================================\n",
    "print(f\"\\n📝 Important Note About Test Set\")\n",
    "print(\"-\" * 40)\n",
    "print(\"ℹ️  The competition test set has NO labels (no 'Transported' column)\")\n",
    "print(\"ℹ️  This is the unlabeled data you need to predict for submission\")\n",
    "print(\"ℹ️  True performance will only be known after Kaggle submission\")\n",
    "print(\"ℹ️  Use cross-validation scores from training as performance estimates\")"
   ],
   "id": "b9435b5914a25d1d",
   "outputs": [
    {
     "name": "stdout",
     "output_type": "stream",
     "text": [
      "\n",
      "📝 Important Note About Test Set\n",
      "----------------------------------------\n",
      "ℹ️  The competition test set has NO labels (no 'Transported' column)\n",
      "ℹ️  This is the unlabeled data you need to predict for submission\n",
      "ℹ️  True performance will only be known after Kaggle submission\n",
      "ℹ️  Use cross-validation scores from training as performance estimates\n"
     ]
    }
   ],
   "execution_count": 48
  },
  {
   "metadata": {
    "ExecuteTime": {
     "end_time": "2025-06-04T08:06:07.631203Z",
     "start_time": "2025-06-04T08:06:07.628322Z"
    }
   },
   "cell_type": "code",
   "source": [
    "# =============================================================================\n",
    "# STEP 8: SUMMARY\n",
    "# =============================================================================\n",
    "end_time = datetime.now()\n",
    "total_runtime = (end_time - start_time).total_seconds()\n",
    "\n",
    "print(f\"\\n📈 EVALUATION SUMMARY\")\n",
    "print(\"=\" * 40)\n",
    "print(f\"✅ Model: {selected_model['name']}\")\n",
    "print(f\"📁 Model File: {selected_model['file']}\")\n",
    "print(f\"🔮 Competition Samples: {len(X_comp):,}\")\n",
    "print(f\"⏱️  Total Runtime: {total_runtime:.2f} seconds\")\n",
    "\n",
    "print(f\"\\n📊 Files Generated:\")\n",
    "print(f\"   • {submission_filename} (Main submission file)\")\n",
    "print(f\"   • {detailed_filename} (Detailed predictions)\")\n",
    "\n",
    "print(f\"\\n🚀 Next Steps:\")\n",
    "print(f\"   1. Upload '{submission_filename}' to Kaggle competition\")\n",
    "print(f\"   2. Check leaderboard performance\")\n",
    "print(f\"   3. Compare with cross-validation scores from training\")\n",
    "print(f\"   4. Consider ensemble methods if performance differs significantly\")\n",
    "\n",
    "print(f\"\\n✅ Model evaluation and submission preparation completed successfully!\")\n",
    "print(\"=\" * 60)"
   ],
   "id": "99bb44bcb6b0f5e5",
   "outputs": [
    {
     "name": "stdout",
     "output_type": "stream",
     "text": [
      "\n",
      "📈 EVALUATION SUMMARY\n",
      "========================================\n",
      "✅ Model: XGBoost (Grid Search)\n",
      "📁 Model File: models/best_xgb_model.pkl\n",
      "🔮 Competition Samples: 4,277\n",
      "⏱️  Total Runtime: 0.13 seconds\n",
      "\n",
      "📊 Files Generated:\n",
      "   • submission_xgboost_grid_search.csv (Main submission file)\n",
      "   • detailed_predictions_xgboost_grid_search.csv (Detailed predictions)\n",
      "\n",
      "🚀 Next Steps:\n",
      "   1. Upload 'submission_xgboost_grid_search.csv' to Kaggle competition\n",
      "   2. Check leaderboard performance\n",
      "   3. Compare with cross-validation scores from training\n",
      "   4. Consider ensemble methods if performance differs significantly\n",
      "\n",
      "✅ Model evaluation and submission preparation completed successfully!\n",
      "============================================================\n"
     ]
    }
   ],
   "execution_count": 49
  },
  {
   "metadata": {
    "ExecuteTime": {
     "end_time": "2025-06-04T08:06:07.648931Z",
     "start_time": "2025-06-04T08:06:07.647622Z"
    }
   },
   "cell_type": "code",
   "source": "",
   "id": "19f748ba58cf678e",
   "outputs": [],
   "execution_count": null
  },
  {
   "metadata": {
    "ExecuteTime": {
     "end_time": "2025-06-04T08:06:07.669172Z",
     "start_time": "2025-06-04T08:06:07.667916Z"
    }
   },
   "cell_type": "code",
   "source": "",
   "id": "7f4cc69d29df034d",
   "outputs": [],
   "execution_count": null
  },
  {
   "metadata": {
    "ExecuteTime": {
     "end_time": "2025-06-04T08:06:07.690238Z",
     "start_time": "2025-06-04T08:06:07.688956Z"
    }
   },
   "cell_type": "code",
   "source": "",
   "id": "5d6d1951e1b8553e",
   "outputs": [],
   "execution_count": null
  }
 ],
 "metadata": {
  "kernelspec": {
   "display_name": "Python 3",
   "language": "python",
   "name": "python3"
  },
  "language_info": {
   "codemirror_mode": {
    "name": "ipython",
    "version": 2
   },
   "file_extension": ".py",
   "mimetype": "text/x-python",
   "name": "python",
   "nbconvert_exporter": "python",
   "pygments_lexer": "ipython2",
   "version": "2.7.6"
  }
 },
 "nbformat": 4,
 "nbformat_minor": 5
}
